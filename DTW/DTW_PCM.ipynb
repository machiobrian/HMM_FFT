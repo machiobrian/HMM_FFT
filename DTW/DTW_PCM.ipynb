{
 "cells": [
  {
   "cell_type": "code",
   "execution_count": 46,
   "metadata": {},
   "outputs": [],
   "source": [
    "# define the Dynamic Time Warping Function\n",
    "import numpy as np \n",
    "\n",
    "def dp(dist_matrix):\n",
    "    N, M = dist_matrix.shape\n",
    "\n",
    "    # initialize the cost matrix by extracting the dimensionality\n",
    "    cost_matrix = np.zeros((N+1, M+1))\n",
    "    for i in range(1, N+1):\n",
    "        cost_matrix[i,0] = np.inf\n",
    "    for i in range(1, M+1):\n",
    "        cost_matrix[0,i] = np.inf\n",
    "\n",
    "    # fill the cost matrix; keep the traceback information\n",
    "    traceback_matrix = np.zeros((N, M))\n",
    "\n",
    "    for i in range(N):\n",
    "        for j in range(M):\n",
    "            penalty = [\n",
    "                cost_matrix[i,j], #match(0)\n",
    "                cost_matrix[i, j+1], # insertion(1)\n",
    "                cost_matrix[i+1, j] # deletion(2)\n",
    "            ]\n",
    "\n",
    "            i_penalty = np.argmin(penalty)\n",
    "\n",
    "            cost_matrix[i+1, j+1] = dist_matrix[i,j]+penalty[i_penalty]\n",
    "            traceback_matrix[i,j] = i_penalty\n",
    "\n",
    "    # taking our traceback from bottom right\n",
    "    i = N-1\n",
    "    j = M-1\n",
    "    path = [(i,j)]\n",
    "\n",
    "    while i > 0 or j > 0:\n",
    "        tb_type = traceback_matrix[i,j]\n",
    "        if tb_type == 0:\n",
    "            # match\n",
    "            i = j-1\n",
    "            j = j-1\n",
    "        elif tb_type == 1:\n",
    "            # insertion\n",
    "            i = i-1\n",
    "        elif tb_type == 2:\n",
    "            # deletion\n",
    "            j = j-1\n",
    "        path.append((i,j))\n",
    "\n",
    "    # strip infinity edges before returning\n",
    "    cost_matrix = cost_matrix[1:, 1:]\n",
    "    return (path[::-1], cost_matrix)"
   ]
  },
  {
   "cell_type": "code",
   "execution_count": 58,
   "metadata": {},
   "outputs": [],
   "source": [
    "# define a function that will receive audio data\n",
    "import wave, os, struct, array, csv\n",
    "\n",
    "def read_loaded_file(audio_path):\n",
    "    get_file = wave.open(audio_path, \"rb\")\n",
    "    # return number of audio frames\n",
    "    audio_sample = get_file.readframes(get_file.getnframes()) # PCM 1. SAMPLED THE ANALOG SIGNAL\n",
    "    sampling_frequency = get_file.readframes(get_file.getframerate())\n",
    "    get_file.close()\n",
    "    \n",
    "    # convert audio samples into an array\n",
    "    audio_sample = array.array(\"h\", audio_sample)\n",
    "    return audio_sample\n"
   ]
  },
  {
   "cell_type": "code",
   "execution_count": 49,
   "metadata": {},
   "outputs": [],
   "source": [
    "# load the analog signal.\n",
    "audio_sample = read_loaded_file(\"./isigi_ac.wav\")\n",
    "# import IPython.display as ipyd\n",
    "# ipyd.Audio(rate=44100, data=audio_sample)"
   ]
  },
  {
   "cell_type": "code",
   "execution_count": 53,
   "metadata": {},
   "outputs": [],
   "source": [
    "# quantize the audio and encode it\n",
    "quantization_level = 16 # bits/sample\n",
    "quantized_audio = audio_sample\n",
    "\n",
    "for audio in range(len(quantized_audio)): # PCM 2. QUANTIZATION\n",
    "    quantized_audio[audio] = int((quantized_audio[audio]/(2**15/quantization_level)) * (2**15/quantization_level))\n",
    "\n",
    "# convert data into bytes for transmission : PCM 3. ENCODE\n",
    "encoded_audio = struct.pack(\"h\"*len(quantized_audio), *quantized_audio)"
   ]
  },
  {
   "attachments": {},
   "cell_type": "markdown",
   "metadata": {},
   "source": [
    "`The signal (.wav) has undergone a process: PCM -sample, quantize & encode- it is ready for transmission and decoding for DTW`"
   ]
  },
  {
   "cell_type": "code",
   "execution_count": 62,
   "metadata": {},
   "outputs": [],
   "source": [
    "# need to define : sampling frequency - 44100 & array data -> decode (byte to array)\n",
    "# then extract features \n",
    "import librosa\n",
    "\n",
    "# define rate manually for now ******\n",
    "sampling_frequency = 44100"
   ]
  },
  {
   "cell_type": "code",
   "execution_count": 71,
   "metadata": {},
   "outputs": [],
   "source": [
    "n_fft = int(0.025*sampling_frequency)\n",
    "hop_length = int(0.01*sampling_frequency)"
   ]
  },
  {
   "cell_type": "code",
   "execution_count": 74,
   "metadata": {},
   "outputs": [
    {
     "ename": "TypeError",
     "evalue": "unsupported operand type(s) for /: 'array.array' and 'float'",
     "output_type": "error",
     "traceback": [
      "\u001b[0;31m---------------------------------------------------------------------------\u001b[0m",
      "\u001b[0;31mTypeError\u001b[0m                                 Traceback (most recent call last)",
      "Cell \u001b[0;32mIn[74], line 5\u001b[0m\n\u001b[1;32m      1\u001b[0m \u001b[39m# extract features\u001b[39;00m\n\u001b[1;32m      3\u001b[0m mel_spectogram \u001b[39m=\u001b[39m librosa\u001b[39m.\u001b[39mfeature\u001b[39m.\u001b[39mmelspectrogram(\n\u001b[1;32m      4\u001b[0m \n\u001b[0;32m----> 5\u001b[0m     y \u001b[39m=\u001b[39m audio_sample\u001b[39m/\u001b[39;49m\u001b[39m1.0\u001b[39;49m,\n\u001b[1;32m      6\u001b[0m     sr \u001b[39m=\u001b[39m sampling_frequency,\n\u001b[1;32m      7\u001b[0m     nfft \u001b[39m=\u001b[39m n_fft,\n\u001b[1;32m      8\u001b[0m     hop_length \u001b[39m=\u001b[39m hop_length,\n\u001b[1;32m      9\u001b[0m     n_mels \u001b[39m=\u001b[39m \u001b[39m40\u001b[39m)\n\u001b[1;32m     11\u001b[0m mel_spectogram_log \u001b[39m=\u001b[39m np\u001b[39m.\u001b[39mlog(mel_spectogram)\n\u001b[1;32m     12\u001b[0m audio_signal \u001b[39m=\u001b[39m mel_spectogram_log\u001b[39m.\u001b[39mT\n",
      "\u001b[0;31mTypeError\u001b[0m: unsupported operand type(s) for /: 'array.array' and 'float'"
     ]
    }
   ],
   "source": [
    "# extract features\n",
    "\n",
    "mel_spectogram = librosa.feature.melspectrogram(\n",
    "\n",
    "    y = audio_sample/1.0,\n",
    "    sr = sampling_frequency,\n",
    "    nfft = n_fft,\n",
    "    hop_length = hop_length,\n",
    "    n_mels = 40)\n",
    "\n",
    "mel_spectogram_log = np.log(mel_spectogram)\n",
    "audio_signal = mel_spectogram_log.T"
   ]
  }
 ],
 "metadata": {
  "kernelspec": {
   "display_name": "TensorFlow",
   "language": "python",
   "name": "python3"
  },
  "language_info": {
   "codemirror_mode": {
    "name": "ipython",
    "version": 3
   },
   "file_extension": ".py",
   "mimetype": "text/x-python",
   "name": "python",
   "nbconvert_exporter": "python",
   "pygments_lexer": "ipython3",
   "version": "3.10.8"
  },
  "orig_nbformat": 4,
  "vscode": {
   "interpreter": {
    "hash": "45c48fb264bba0529b917885aa2fdf54bfc5ac58ac8ea30a57d1df6ad7c47fba"
   }
  }
 },
 "nbformat": 4,
 "nbformat_minor": 2
}
