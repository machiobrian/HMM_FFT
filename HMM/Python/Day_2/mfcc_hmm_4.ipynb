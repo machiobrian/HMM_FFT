{
 "cells": [
  {
   "cell_type": "code",
   "execution_count": 28,
   "metadata": {},
   "outputs": [],
   "source": [
    "import numpy as np \n",
    "import scipy.io.wavfile as wav # load the audio\n",
    "import hmmlearn.hmm as hmm # tran and decode a HMM model\n",
    "import librosa"
   ]
  },
  {
   "cell_type": "code",
   "execution_count": 29,
   "metadata": {},
   "outputs": [],
   "source": [
    "def extract_mfcc_features(data, fs):\n",
    "    mfcc = librosa.feature.mfcc(y=data, sr=fs, n_mfcc=13)\n",
    "    return mfcc.T \n",
    "\n",
    "def state_to_text(state_sequence):\n",
    "    text = \"\"\n",
    "    for state in state_sequence:\n",
    "        if state == 0:\n",
    "            text += \"turn\"\n",
    "        elif state == 1:\n",
    "            text += \"on\"\n",
    "        elif state == 2:\n",
    "            text += \"generator\"\n",
    "    return text"
   ]
  },
  {
   "cell_type": "code",
   "execution_count": 30,
   "metadata": {},
   "outputs": [],
   "source": [
    "fs,data = wav.read(\"../Day_2/Gen/1/gen1.wav\")\n",
    "data = data.astype(np.float64) / np.iinfo(data.dtype).max\n",
    "mfcc_features = extract_mfcc_features(data, fs)\n",
    "# mfcc_features"
   ]
  },
  {
   "cell_type": "code",
   "execution_count": 31,
   "metadata": {},
   "outputs": [
    {
     "data": {
      "text/html": [
       "<style>#sk-container-id-6 {color: black;background-color: white;}#sk-container-id-6 pre{padding: 0;}#sk-container-id-6 div.sk-toggleable {background-color: white;}#sk-container-id-6 label.sk-toggleable__label {cursor: pointer;display: block;width: 100%;margin-bottom: 0;padding: 0.3em;box-sizing: border-box;text-align: center;}#sk-container-id-6 label.sk-toggleable__label-arrow:before {content: \"▸\";float: left;margin-right: 0.25em;color: #696969;}#sk-container-id-6 label.sk-toggleable__label-arrow:hover:before {color: black;}#sk-container-id-6 div.sk-estimator:hover label.sk-toggleable__label-arrow:before {color: black;}#sk-container-id-6 div.sk-toggleable__content {max-height: 0;max-width: 0;overflow: hidden;text-align: left;background-color: #f0f8ff;}#sk-container-id-6 div.sk-toggleable__content pre {margin: 0.2em;color: black;border-radius: 0.25em;background-color: #f0f8ff;}#sk-container-id-6 input.sk-toggleable__control:checked~div.sk-toggleable__content {max-height: 200px;max-width: 100%;overflow: auto;}#sk-container-id-6 input.sk-toggleable__control:checked~label.sk-toggleable__label-arrow:before {content: \"▾\";}#sk-container-id-6 div.sk-estimator input.sk-toggleable__control:checked~label.sk-toggleable__label {background-color: #d4ebff;}#sk-container-id-6 div.sk-label input.sk-toggleable__control:checked~label.sk-toggleable__label {background-color: #d4ebff;}#sk-container-id-6 input.sk-hidden--visually {border: 0;clip: rect(1px 1px 1px 1px);clip: rect(1px, 1px, 1px, 1px);height: 1px;margin: -1px;overflow: hidden;padding: 0;position: absolute;width: 1px;}#sk-container-id-6 div.sk-estimator {font-family: monospace;background-color: #f0f8ff;border: 1px dotted black;border-radius: 0.25em;box-sizing: border-box;margin-bottom: 0.5em;}#sk-container-id-6 div.sk-estimator:hover {background-color: #d4ebff;}#sk-container-id-6 div.sk-parallel-item::after {content: \"\";width: 100%;border-bottom: 1px solid gray;flex-grow: 1;}#sk-container-id-6 div.sk-label:hover label.sk-toggleable__label {background-color: #d4ebff;}#sk-container-id-6 div.sk-serial::before {content: \"\";position: absolute;border-left: 1px solid gray;box-sizing: border-box;top: 0;bottom: 0;left: 50%;z-index: 0;}#sk-container-id-6 div.sk-serial {display: flex;flex-direction: column;align-items: center;background-color: white;padding-right: 0.2em;padding-left: 0.2em;position: relative;}#sk-container-id-6 div.sk-item {position: relative;z-index: 1;}#sk-container-id-6 div.sk-parallel {display: flex;align-items: stretch;justify-content: center;background-color: white;position: relative;}#sk-container-id-6 div.sk-item::before, #sk-container-id-6 div.sk-parallel-item::before {content: \"\";position: absolute;border-left: 1px solid gray;box-sizing: border-box;top: 0;bottom: 0;left: 50%;z-index: -1;}#sk-container-id-6 div.sk-parallel-item {display: flex;flex-direction: column;z-index: 1;position: relative;background-color: white;}#sk-container-id-6 div.sk-parallel-item:first-child::after {align-self: flex-end;width: 50%;}#sk-container-id-6 div.sk-parallel-item:last-child::after {align-self: flex-start;width: 50%;}#sk-container-id-6 div.sk-parallel-item:only-child::after {width: 0;}#sk-container-id-6 div.sk-dashed-wrapped {border: 1px dashed gray;margin: 0 0.4em 0.5em 0.4em;box-sizing: border-box;padding-bottom: 0.4em;background-color: white;}#sk-container-id-6 div.sk-label label {font-family: monospace;font-weight: bold;display: inline-block;line-height: 1.2em;}#sk-container-id-6 div.sk-label-container {text-align: center;}#sk-container-id-6 div.sk-container {/* jupyter's `normalize.less` sets `[hidden] { display: none; }` but bootstrap.min.css set `[hidden] { display: none !important; }` so we also need the `!important` here to be able to override the default hidden behavior on the sphinx rendered scikit-learn.org. See: https://github.com/scikit-learn/scikit-learn/issues/21755 */display: inline-block !important;position: relative;}#sk-container-id-6 div.sk-text-repr-fallback {display: none;}</style><div id=\"sk-container-id-6\" class=\"sk-top-container\"><div class=\"sk-text-repr-fallback\"><pre>GMMHMM(covars_prior=array([[[-1.5, -1.5, -1.5, -1.5, -1.5, -1.5, -1.5, -1.5, -1.5, -1.5,\n",
       "         -1.5, -1.5, -1.5]],\n",
       "\n",
       "       [[-1.5, -1.5, -1.5, -1.5, -1.5, -1.5, -1.5, -1.5, -1.5, -1.5,\n",
       "         -1.5, -1.5, -1.5]],\n",
       "\n",
       "       [[-1.5, -1.5, -1.5, -1.5, -1.5, -1.5, -1.5, -1.5, -1.5, -1.5,\n",
       "         -1.5, -1.5, -1.5]]]),\n",
       "       covars_weight=array([[[0., 0., 0., 0., 0., 0., 0., 0., 0., 0., 0., 0., 0.]],\n",
       "\n",
       "       [[0., 0., 0., 0., 0., 0., 0., 0., 0., 0., 0., 0., 0.]],\n",
       "\n",
       "       [[0., 0., 0., 0., 0., 0., 0., 0., 0., 0., 0., 0., 0.]]]),\n",
       "       means_prior=array([[[0., 0., 0., 0., 0., 0., 0., 0., 0., 0., 0., 0., 0.]],\n",
       "\n",
       "       [[0., 0., 0., 0., 0., 0., 0., 0., 0., 0., 0., 0., 0.]],\n",
       "\n",
       "       [[0., 0., 0., 0., 0., 0., 0., 0., 0., 0., 0., 0., 0.]]]),\n",
       "       means_weight=array([[0.],\n",
       "       [0.],\n",
       "       [0.]]), n_components=3,\n",
       "       weights_prior=array([[1.],\n",
       "       [1.],\n",
       "       [1.]]))</pre><b>In a Jupyter environment, please rerun this cell to show the HTML representation or trust the notebook. <br />On GitHub, the HTML representation is unable to render, please try loading this page with nbviewer.org.</b></div><div class=\"sk-container\" hidden><div class=\"sk-item\"><div class=\"sk-estimator sk-toggleable\"><input class=\"sk-toggleable__control sk-hidden--visually\" id=\"sk-estimator-id-6\" type=\"checkbox\" checked><label for=\"sk-estimator-id-6\" class=\"sk-toggleable__label sk-toggleable__label-arrow\">GMMHMM</label><div class=\"sk-toggleable__content\"><pre>GMMHMM(covars_prior=array([[[-1.5, -1.5, -1.5, -1.5, -1.5, -1.5, -1.5, -1.5, -1.5, -1.5,\n",
       "         -1.5, -1.5, -1.5]],\n",
       "\n",
       "       [[-1.5, -1.5, -1.5, -1.5, -1.5, -1.5, -1.5, -1.5, -1.5, -1.5,\n",
       "         -1.5, -1.5, -1.5]],\n",
       "\n",
       "       [[-1.5, -1.5, -1.5, -1.5, -1.5, -1.5, -1.5, -1.5, -1.5, -1.5,\n",
       "         -1.5, -1.5, -1.5]]]),\n",
       "       covars_weight=array([[[0., 0., 0., 0., 0., 0., 0., 0., 0., 0., 0., 0., 0.]],\n",
       "\n",
       "       [[0., 0., 0., 0., 0., 0., 0., 0., 0., 0., 0., 0., 0.]],\n",
       "\n",
       "       [[0., 0., 0., 0., 0., 0., 0., 0., 0., 0., 0., 0., 0.]]]),\n",
       "       means_prior=array([[[0., 0., 0., 0., 0., 0., 0., 0., 0., 0., 0., 0., 0.]],\n",
       "\n",
       "       [[0., 0., 0., 0., 0., 0., 0., 0., 0., 0., 0., 0., 0.]],\n",
       "\n",
       "       [[0., 0., 0., 0., 0., 0., 0., 0., 0., 0., 0., 0., 0.]]]),\n",
       "       means_weight=array([[0.],\n",
       "       [0.],\n",
       "       [0.]]), n_components=3,\n",
       "       weights_prior=array([[1.],\n",
       "       [1.],\n",
       "       [1.]]))</pre></div></div></div></div></div>"
      ],
      "text/plain": [
       "GMMHMM(covars_prior=array([[[-1.5, -1.5, -1.5, -1.5, -1.5, -1.5, -1.5, -1.5, -1.5, -1.5,\n",
       "         -1.5, -1.5, -1.5]],\n",
       "\n",
       "       [[-1.5, -1.5, -1.5, -1.5, -1.5, -1.5, -1.5, -1.5, -1.5, -1.5,\n",
       "         -1.5, -1.5, -1.5]],\n",
       "\n",
       "       [[-1.5, -1.5, -1.5, -1.5, -1.5, -1.5, -1.5, -1.5, -1.5, -1.5,\n",
       "         -1.5, -1.5, -1.5]]]),\n",
       "       covars_weight=array([[[0., 0., 0., 0., 0., 0., 0., 0., 0., 0., 0., 0., 0.]],\n",
       "\n",
       "       [[0., 0., 0., 0., 0., 0., 0., 0., 0., 0., 0., 0., 0.]],\n",
       "\n",
       "       [[0., 0., 0., 0., 0., 0., 0., 0., 0., 0., 0., 0., 0.]]]),\n",
       "       means_prior=array([[[0., 0., 0., 0., 0., 0., 0., 0., 0., 0., 0., 0., 0.]],\n",
       "\n",
       "       [[0., 0., 0., 0., 0., 0., 0., 0., 0., 0., 0., 0., 0.]],\n",
       "\n",
       "       [[0., 0., 0., 0., 0., 0., 0., 0., 0., 0., 0., 0., 0.]]]),\n",
       "       means_weight=array([[0.],\n",
       "       [0.],\n",
       "       [0.]]), n_components=3,\n",
       "       weights_prior=array([[1.],\n",
       "       [1.],\n",
       "       [1.]]))"
      ]
     },
     "execution_count": 31,
     "metadata": {},
     "output_type": "execute_result"
    }
   ],
   "source": [
    "# training\n",
    "model = hmm.GMMHMM(n_components=3, covariance_type=\"diag\")\n",
    "model.fit(mfcc_features)"
   ]
  },
  {
   "cell_type": "code",
   "execution_count": 32,
   "metadata": {},
   "outputs": [],
   "source": [
    "logprob, state_sequence = model.decode(mfcc_features)"
   ]
  },
  {
   "cell_type": "code",
   "execution_count": 33,
   "metadata": {},
   "outputs": [
    {
     "name": "stdout",
     "output_type": "stream",
     "text": [
      "The recognized speech is:  turnturnturnturnturnturnturnturnturnturnturnturnturnturnturnturnturnturnturnturnturnturnturnturnturnturnturnturnturnturnturnturnturnturnturnturnturnturnturnturnturnturnturnturnturnturnturnturnturnturnturnturnturnturnturnturnturnturnturnturnturnturngeneratorgeneratorgeneratorgeneratorgeneratorgeneratorgeneratorgeneratorgeneratorgeneratorgeneratorgeneratorgeneratorgeneratorgeneratorgeneratorgeneratorgeneratorturnturnturnturnturnturnturnturnturnturnturnturnturnturngeneratorgeneratorgeneratorgeneratorturnturnturnturnturnturnturnturnturnturnturngeneratorgeneratorgeneratorononononononononononononononononongeneratorgeneratorgeneratorgeneratorgeneratorgeneratorgeneratorgeneratorgeneratorgeneratorgeneratorgeneratorgeneratorgeneratorononononongeneratorgeneratorgeneratorgeneratorononononononononononononononononononononongeneratorgeneratorgeneratorgeneratorgeneratorgeneratorgeneratorgeneratoronononongeneratorgeneratorgeneratorgeneratorgeneratorgeneratorgeneratorgeneratorgeneratorgeneratorgeneratorgeneratorgeneratorgeneratorgeneratorgeneratorgeneratorgeneratorgeneratorgeneratorgeneratorturnturnturngeneratorgeneratorgeneratorgeneratorgeneratorturnturnturnturnturnturnturnturnturnturnturnturnturnturnturnturnturnturnturnturnturnturnturnturnturnturnturnturnturnturnturnturnturnturnturnturnturnturnturnturnturnturnturnturnturnturnturnturnturnturnturnturnturnturnturnturnturnturnturnturnturnturnturnturnturnturnturnturnturnturnturnturnturnturnturnturnturnturnturnturnturnturnturnturnturnturnturn\n"
     ]
    }
   ],
   "source": [
    "text = state_to_text(state_sequence)\n",
    "print(\"The recognized speech is: \", text)"
   ]
  },
  {
   "cell_type": "code",
   "execution_count": 34,
   "metadata": {},
   "outputs": [
    {
     "name": "stdout",
     "output_type": "stream",
     "text": [
      "(138, 13)\n"
     ]
    }
   ],
   "source": [
    "import librosa\n",
    "import numpy as np\n",
    "\n",
    "def extract_mfcc(file_path):\n",
    "    # Load the audio file\n",
    "    y, sr = librosa.load(file_path)\n",
    "    \n",
    "    # Extract MFCC features\n",
    "    mfcc = librosa.feature.mfcc(y=y, sr=sr, n_mfcc=13)\n",
    "    \n",
    "    # Transpose the features for use in HMM\n",
    "    mfcc = np.transpose(mfcc)\n",
    "    \n",
    "    return mfcc\n",
    "\n",
    "# Example usage\n",
    "mfcc_features = extract_mfcc(\"../Day_2/Gen/1/gen1.wav\")\n",
    "print(mfcc_features.shape)\n"
   ]
  }
 ],
 "metadata": {
  "kernelspec": {
   "display_name": "TensorFlow",
   "language": "python",
   "name": "python3"
  },
  "language_info": {
   "codemirror_mode": {
    "name": "ipython",
    "version": 3
   },
   "file_extension": ".py",
   "mimetype": "text/x-python",
   "name": "python",
   "nbconvert_exporter": "python",
   "pygments_lexer": "ipython3",
   "version": "3.10.8"
  },
  "orig_nbformat": 4,
  "vscode": {
   "interpreter": {
    "hash": "45c48fb264bba0529b917885aa2fdf54bfc5ac58ac8ea30a57d1df6ad7c47fba"
   }
  }
 },
 "nbformat": 4,
 "nbformat_minor": 2
}
