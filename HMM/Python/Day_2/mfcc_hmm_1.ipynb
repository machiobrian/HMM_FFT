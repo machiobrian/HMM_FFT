{
 "cells": [
  {
   "cell_type": "code",
   "execution_count": null,
   "metadata": {},
   "outputs": [],
   "source": [
    "import os\n",
    "import numpy as np \n",
    "import scipy.io.wavfile as wav \n",
    "import python_speech_features as psf\n",
    "import hmmlearn.hmm as hmm"
   ]
  },
  {
   "cell_type": "code",
   "execution_count": null,
   "metadata": {},
   "outputs": [],
   "source": [
    "def extract_mfcc_features(filename):\n",
    "    # load the wave file and get the sample rate and audio data\n",
    "    sample_rate, audio = wav.read(filename)\n",
    "    # extract mfcc features\n",
    "    mfcc_features = psf.mfcc(audio, samplerate=sample_rate)\n",
    "    return mfcc_features"
   ]
  },
  {
   "cell_type": "code",
   "execution_count": null,
   "metadata": {},
   "outputs": [],
   "source": [
    "extract_mfcc_features(\"/home/ix502iv/Documents/Audio_Trad/DTW/Lecture/audio/cat.wav\")"
   ]
  },
  {
   "cell_type": "code",
   "execution_count": null,
   "metadata": {},
   "outputs": [],
   "source": [
    "# load the .wav file for each word in the training set\n",
    "word_directories = [\"../Day_2/Gen/1/\",\"../Day_2/Gen/2/\",\"../Day_2/Gen/3/\",\n",
    "                    \"../Day_2/Gen/4/\", \"../Day_2/Gen/5/\"] # directories where each of the word is contained\n",
    "word_models = [] # initialize an empty list where we will store trained models\n",
    "\n",
    "for word_directory in word_directories:\n",
    "    word_mfcc_features = []\n",
    "    for filename in os.listdir(word_directory):\n",
    "        if filename.endswith(\".wav\"):\n",
    "            filepath = os.path.join(word_directory, filename)\n",
    "            word_mfcc_features.append(extract_mfcc_features(filepath))\n",
    "\n",
    "    # stack mfcc features for all audio files in the directory\n",
    "    word_mfcc_features = np.vstack(word_mfcc_features)\n",
    "    \n",
    "    # train an HMM model on the MFCC features\n",
    "    num_states = 5 # hidden number of states.\n",
    "    num_mixtures = 13 # btn 8 and 16\n",
    "\n",
    "    # specify the starting probs\n",
    "    start_prob = np.array([0.1, 0.1, 0.1, 0.1, 0.6])\n",
    "\n",
    "    word_model = hmm.GMMHMM(n_components=num_states, n_mix=num_mixtures, startprob_prior=start_prob)\n",
    "    word_model.fit(word_mfcc_features)\n",
    "    word_models.append(word_model)"
   ]
  },
  {
   "cell_type": "code",
   "execution_count": null,
   "metadata": {},
   "outputs": [],
   "source": [
    "def validate_model(word_mfcc_features, word_models):\n",
    "    log_likelihood = np.zeros(len(word_models))\n",
    "\n",
    "    for i, model in enumerate(word_models):\n",
    "        log_likelihood[i] = model.score(word_mfcc_features)\n",
    "\n",
    "    # predict the word with highest likelihood\n",
    "    word_index = np.argmax(log_likelihood)\n",
    "    return word_index"
   ]
  },
  {
   "cell_type": "code",
   "execution_count": null,
   "metadata": {},
   "outputs": [],
   "source": []
  },
  {
   "cell_type": "code",
   "execution_count": null,
   "metadata": {},
   "outputs": [],
   "source": [
    "word_index= validate_model(word_mfcc_features, word_models)"
   ]
  }
 ],
 "metadata": {
  "kernelspec": {
   "display_name": "TensorFlow",
   "language": "python",
   "name": "python3"
  },
  "language_info": {
   "codemirror_mode": {
    "name": "ipython",
    "version": 3
   },
   "file_extension": ".py",
   "mimetype": "text/x-python",
   "name": "python",
   "nbconvert_exporter": "python",
   "pygments_lexer": "ipython3",
   "version": "3.10.8"
  },
  "orig_nbformat": 4,
  "vscode": {
   "interpreter": {
    "hash": "45c48fb264bba0529b917885aa2fdf54bfc5ac58ac8ea30a57d1df6ad7c47fba"
   }
  }
 },
 "nbformat": 4,
 "nbformat_minor": 2
}
