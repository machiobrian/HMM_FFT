{
 "cells": [
  {
   "cell_type": "code",
   "execution_count": 10,
   "metadata": {},
   "outputs": [],
   "source": [
    "import os\n",
    "import numpy as np \n",
    "import scipy.io.wavfile as wav \n",
    "import python_speech_features as psf\n",
    "import hmmlearn.hmm as hmm\n",
    "import librosa"
   ]
  },
  {
   "cell_type": "code",
   "execution_count": 11,
   "metadata": {},
   "outputs": [],
   "source": [
    "def extract_mfcc_features(filename):\n",
    "    # load the wave file and get the sample rate and audio data\n",
    "    sample_rate, audio = wav.read(filename)\n",
    "    # extract mfcc features\n",
    "    # change sample rate\n",
    "    # sample_rate = librosa.resample(y=audio, orig_sr=sample_rate, target_sr=16000)\n",
    "    # audio = audio.astype(np.float64) / np.iinfo(audio.dtype).max\n",
    "    mfcc_features = psf.mfcc(audio, samplerate=16000)\n",
    "    return mfcc_features"
   ]
  },
  {
   "cell_type": "code",
   "execution_count": 12,
   "metadata": {},
   "outputs": [
    {
     "data": {
      "text/plain": [
       "array([[ 11.23534804, -13.08661709,   5.75003537, ...,  -0.3884813 ,\n",
       "          2.09732568,  -3.36208155],\n",
       "       [ 10.6868725 , -18.82335808,  12.21479618, ...,   2.22484038,\n",
       "          4.46145968,  -4.37608331],\n",
       "       [ 10.61177596, -19.11138554,   9.59082019, ...,  -6.3604963 ,\n",
       "          5.25303554,   2.65838198],\n",
       "       ...,\n",
       "       [ 11.2586154 ,  -8.33601334,   2.78819231, ...,  -5.28767173,\n",
       "          6.66102993,  14.31883911],\n",
       "       [ 11.06969225, -12.67100128,  -0.55847585, ..., -16.24812375,\n",
       "         -3.79298751,   7.33667571],\n",
       "       [ 10.54895955, -11.97425769,   1.53086278, ..., -13.47627786,\n",
       "         -6.70694104,   4.75390341]])"
      ]
     },
     "execution_count": 12,
     "metadata": {},
     "output_type": "execute_result"
    }
   ],
   "source": [
    "extract_mfcc_features(\"/home/ix502iv/Documents/Audio_Trad/DTW/Lecture/audio/cat.wav\")"
   ]
  },
  {
   "cell_type": "code",
   "execution_count": 13,
   "metadata": {},
   "outputs": [],
   "source": [
    "# load the .wav file for each word in the training set\n",
    "word_directories = [\"../Day_2/Gen/1/\",\"../Day_2/Gen/2/\",\"../Day_2/Gen/3/\",\n",
    "                    \"../Day_2/Gen/4/\", \"../Day_2/Gen/5/\"] # directories where each of the word is contained\n",
    "word_models = [] # initialize an empty list where we will store trained models\n",
    "\n",
    "for word_directory in word_directories:\n",
    "    word_mfcc_features = []\n",
    "    for filename in os.listdir(word_directory):\n",
    "        if filename.endswith(\".wav\"):\n",
    "            filepath = os.path.join(word_directory, filename)\n",
    "            word_mfcc_features.append(extract_mfcc_features(filepath))\n",
    "\n",
    "    # stack mfcc features for all audio files in the directory\n",
    "    word_mfcc_features = np.vstack(word_mfcc_features)\n",
    "    \n",
    "    # train an HMM model on the MFCC features\n",
    "    num_states = 5 # hidden number of states.\n",
    "    num_mixtures = 13 # btn 8 and 16\n",
    "\n",
    "    # specify the starting probs\n",
    "    start_prob = np.array([0.1, 0.1, 0.1, 0.1, 0.6])\n",
    "\n",
    "    word_model = hmm.GMMHMM(n_components=num_states, n_mix=num_mixtures, startprob_prior=start_prob)\n",
    "    word_model.fit(word_mfcc_features)\n",
    "    word_models.append(word_model)"
   ]
  },
  {
   "cell_type": "code",
   "execution_count": 14,
   "metadata": {},
   "outputs": [],
   "source": [
    "def validate_model(word_mfcc_features, word_models):\n",
    "    log_likelihood = np.zeros(len(word_models))\n",
    "\n",
    "    for i, model in enumerate(word_models):\n",
    "        log_likelihood[i] = model.score(word_mfcc_features)\n",
    "\n",
    "    # predict the word with highest likelihood\n",
    "    word_index = np.argmax(log_likelihood)\n",
    "    return word_index"
   ]
  },
  {
   "cell_type": "code",
   "execution_count": 15,
   "metadata": {},
   "outputs": [
    {
     "name": "stderr",
     "output_type": "stream",
     "text": [
      "Degenerate mixture covariance\n",
      "Degenerate mixture covariance\n",
      "Degenerate mixture covariance\n",
      "Degenerate mixture covariance\n",
      "Degenerate mixture covariance\n"
     ]
    }
   ],
   "source": [
    "word_index= validate_model(word_mfcc_features, word_models)"
   ]
  }
 ],
 "metadata": {
  "kernelspec": {
   "display_name": "TensorFlow",
   "language": "python",
   "name": "python3"
  },
  "language_info": {
   "codemirror_mode": {
    "name": "ipython",
    "version": 3
   },
   "file_extension": ".py",
   "mimetype": "text/x-python",
   "name": "python",
   "nbconvert_exporter": "python",
   "pygments_lexer": "ipython3",
   "version": "3.10.8"
  },
  "orig_nbformat": 4,
  "vscode": {
   "interpreter": {
    "hash": "45c48fb264bba0529b917885aa2fdf54bfc5ac58ac8ea30a57d1df6ad7c47fba"
   }
  }
 },
 "nbformat": 4,
 "nbformat_minor": 2
}
