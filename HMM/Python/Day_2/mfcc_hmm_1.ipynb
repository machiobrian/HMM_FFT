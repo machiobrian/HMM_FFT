{
 "cells": [
  {
   "cell_type": "code",
   "execution_count": 9,
   "metadata": {},
   "outputs": [],
   "source": [
    "import os\n",
    "import numpy as np \n",
    "import scipy.io.wavfile as wav \n",
    "import python_speech_features as psf\n",
    "import hmmlearn.hmm as hmm"
   ]
  },
  {
   "cell_type": "code",
   "execution_count": 10,
   "metadata": {},
   "outputs": [],
   "source": [
    "def extract_mfcc_features(filename):\n",
    "    # load the wave file and get the sample rate and audio data\n",
    "    sample_rate, audio = wav.read(filename)\n",
    "    # extract mfcc features\n",
    "    mfcc_features = psf.mfcc(audio, samplerate=sample_rate)\n",
    "    return mfcc_features"
   ]
  },
  {
   "cell_type": "code",
   "execution_count": 11,
   "metadata": {},
   "outputs": [
    {
     "name": "stderr",
     "output_type": "stream",
     "text": [
      "WARNING:root:frame length (1200) is greater than FFT size (512), frame will be truncated. Increase NFFT to avoid.\n"
     ]
    },
    {
     "data": {
      "text/plain": [
       "array([[-3.60436534e+01,  0.00000000e+00,  0.00000000e+00, ...,\n",
       "         9.64028692e-15,  0.00000000e+00,  0.00000000e+00],\n",
       "       [-3.60436534e+01,  0.00000000e+00,  0.00000000e+00, ...,\n",
       "         9.64028692e-15,  0.00000000e+00,  0.00000000e+00],\n",
       "       [-3.60436534e+01,  0.00000000e+00,  0.00000000e+00, ...,\n",
       "         9.64028692e-15,  0.00000000e+00,  0.00000000e+00],\n",
       "       ...,\n",
       "       [ 8.74560559e+00, -1.22213688e+01, -1.03897968e+01, ...,\n",
       "        -1.62279000e+01,  5.28178118e+00, -1.41650775e+01],\n",
       "       [ 9.18190673e+00, -1.69296734e+01, -1.09801037e+01, ...,\n",
       "        -2.31821082e+01,  1.76367379e+01, -1.67499842e+01],\n",
       "       [ 8.83532433e+00, -1.38158269e+01, -6.39717537e+00, ...,\n",
       "        -1.57318006e+01,  1.14734770e+01, -1.97949216e+01]])"
      ]
     },
     "execution_count": 11,
     "metadata": {},
     "output_type": "execute_result"
    }
   ],
   "source": [
    "extract_mfcc_features(\"./Gen/1/gen1.wav\")"
   ]
  },
  {
   "cell_type": "code",
   "execution_count": 16,
   "metadata": {},
   "outputs": [
    {
     "name": "stderr",
     "output_type": "stream",
     "text": [
      "WARNING:root:frame length (1200) is greater than FFT size (512), frame will be truncated. Increase NFFT to avoid.\n",
      "/home/ix502iv/.local/lib/python3.10/site-packages/hmmlearn/utils.py:29: RuntimeWarning: invalid value encountered in divide\n",
      "  a /= a_sum\n",
      "WARNING:root:frame length (1200) is greater than FFT size (512), frame will be truncated. Increase NFFT to avoid.\n",
      "/home/ix502iv/.local/lib/python3.10/site-packages/hmmlearn/hmm.py:788: RuntimeWarning: divide by zero encountered in divide\n",
      "  self.covars_ = c_n / c_d\n",
      "/home/ix502iv/.local/lib/python3.10/site-packages/hmmlearn/hmm.py:788: RuntimeWarning: invalid value encountered in divide\n",
      "  self.covars_ = c_n / c_d\n",
      "/home/ix502iv/.local/lib/python3.10/site-packages/hmmlearn/_emissions.py:196: RuntimeWarning: divide by zero encountered in log\n",
      "  log_cur_weights = np.log(self.weights_[i_comp])\n",
      "/home/ix502iv/miniconda3/envs/TensorFlow/lib/python3.10/site-packages/scipy/special/_logsumexp.py:110: RuntimeWarning: overflow encountered in exp\n",
      "  tmp = np.exp(a - a_max)\n",
      "WARNING:root:frame length (1200) is greater than FFT size (512), frame will be truncated. Increase NFFT to avoid.\n",
      "/home/ix502iv/.local/lib/python3.10/site-packages/hmmlearn/hmm.py:788: RuntimeWarning: divide by zero encountered in divide\n",
      "  self.covars_ = c_n / c_d\n",
      "/home/ix502iv/.local/lib/python3.10/site-packages/hmmlearn/hmm.py:788: RuntimeWarning: invalid value encountered in divide\n",
      "  self.covars_ = c_n / c_d\n",
      "/home/ix502iv/.local/lib/python3.10/site-packages/hmmlearn/_emissions.py:196: RuntimeWarning: divide by zero encountered in log\n",
      "  log_cur_weights = np.log(self.weights_[i_comp])\n",
      "/home/ix502iv/miniconda3/envs/TensorFlow/lib/python3.10/site-packages/scipy/special/_logsumexp.py:110: RuntimeWarning: overflow encountered in exp\n",
      "  tmp = np.exp(a - a_max)\n",
      "WARNING:root:frame length (1200) is greater than FFT size (512), frame will be truncated. Increase NFFT to avoid.\n",
      "/home/ix502iv/.local/lib/python3.10/site-packages/hmmlearn/hmm.py:788: RuntimeWarning: divide by zero encountered in divide\n",
      "  self.covars_ = c_n / c_d\n",
      "/home/ix502iv/.local/lib/python3.10/site-packages/hmmlearn/hmm.py:788: RuntimeWarning: invalid value encountered in divide\n",
      "  self.covars_ = c_n / c_d\n",
      "/home/ix502iv/.local/lib/python3.10/site-packages/hmmlearn/_emissions.py:196: RuntimeWarning: divide by zero encountered in log\n",
      "  log_cur_weights = np.log(self.weights_[i_comp])\n",
      "/home/ix502iv/miniconda3/envs/TensorFlow/lib/python3.10/site-packages/scipy/special/_logsumexp.py:110: RuntimeWarning: overflow encountered in exp\n",
      "  tmp = np.exp(a - a_max)\n",
      "WARNING:root:frame length (1200) is greater than FFT size (512), frame will be truncated. Increase NFFT to avoid.\n",
      "WARNING:hmmlearn.base:Fitting a model with 2646 free scalar parameters with only 2535 data points will result in a degenerate solution.\n",
      "/home/ix502iv/.local/lib/python3.10/site-packages/hmmlearn/hmm.py:788: RuntimeWarning: divide by zero encountered in divide\n",
      "  self.covars_ = c_n / c_d\n",
      "/home/ix502iv/.local/lib/python3.10/site-packages/hmmlearn/hmm.py:788: RuntimeWarning: invalid value encountered in divide\n",
      "  self.covars_ = c_n / c_d\n",
      "/home/ix502iv/miniconda3/envs/TensorFlow/lib/python3.10/site-packages/scipy/special/_logsumexp.py:110: RuntimeWarning: overflow encountered in exp\n",
      "  tmp = np.exp(a - a_max)\n"
     ]
    }
   ],
   "source": [
    "# load the .wav file for each word in the training set\n",
    "word_directories = [\"../Day_2/Gen/1/\",\"../Day_2/Gen/2/\",\"../Day_2/Gen/3/\",\n",
    "                    \"../Day_2/Gen/4/\", \"../Day_2/Gen/5/\"] # directories where each of the word is contained\n",
    "word_models = [] # initialize an empty list where we will store trained models\n",
    "\n",
    "for word_directory in word_directories:\n",
    "    word_mfcc_features = []\n",
    "    for filename in os.listdir(word_directory):\n",
    "        if filename.endswith(\".wav\"):\n",
    "            filepath = os.path.join(word_directory, filename)\n",
    "            word_mfcc_features.append(extract_mfcc_features(filepath))\n",
    "\n",
    "    # stack mfcc features for all audio files in the directory\n",
    "    word_mfcc_features = np.vstack(word_mfcc_features)\n",
    "    \n",
    "    # train an HMM model on the MFCC features\n",
    "    num_states = 12 # hidden number of states.\n",
    "    num_mixtures = 8 # btn 8 and 16\n",
    "\n",
    "    # specify the starting probs\n",
    "    start_prob = np.array([0.1, 0.1, 0.1, 0.1, 0.1, 0.1, 0.1, 0.1, 0.1, 0.1, 0.1, 0.1])\n",
    "\n",
    "    word_model = hmm.GMMHMM(n_components=num_states, n_mix=num_mixtures, startprob_prior=start_prob)\n",
    "    word_model.fit(word_mfcc_features)\n",
    "    word_models.append(word_model)"
   ]
  },
  {
   "cell_type": "code",
   "execution_count": 13,
   "metadata": {},
   "outputs": [],
   "source": [
    "def validate_model(word_mfcc_features, word_models):\n",
    "    log_likelihood = np.zeros(len(word_models))\n",
    "\n",
    "    for i, model in enumerate(word_models):\n",
    "        log_likelihood[i] = model.score(word_mfcc_features)\n",
    "\n",
    "    # predict the word with highest likelihood\n",
    "    word_index = np.argmax(log_likelihood)\n",
    "    return word_index"
   ]
  },
  {
   "cell_type": "code",
   "execution_count": 14,
   "metadata": {},
   "outputs": [
    {
     "ename": "ValueError",
     "evalue": "startprob_ must sum to 1 (got nan)",
     "output_type": "error",
     "traceback": [
      "\u001b[0;31m---------------------------------------------------------------------------\u001b[0m",
      "\u001b[0;31mValueError\u001b[0m                                Traceback (most recent call last)",
      "Cell \u001b[0;32mIn[14], line 1\u001b[0m\n\u001b[0;32m----> 1\u001b[0m word_index\u001b[39m=\u001b[39m validate_model(word_mfcc_features, word_models)\n",
      "Cell \u001b[0;32mIn[13], line 5\u001b[0m, in \u001b[0;36mvalidate_model\u001b[0;34m(word_mfcc_features, word_models)\u001b[0m\n\u001b[1;32m      2\u001b[0m log_likelihood \u001b[39m=\u001b[39m np\u001b[39m.\u001b[39mzeros(\u001b[39mlen\u001b[39m(word_models))\n\u001b[1;32m      4\u001b[0m \u001b[39mfor\u001b[39;00m i, model \u001b[39min\u001b[39;00m \u001b[39menumerate\u001b[39m(word_models):\n\u001b[0;32m----> 5\u001b[0m     log_likelihood[i] \u001b[39m=\u001b[39m model\u001b[39m.\u001b[39;49mscore(word_mfcc_features)\n\u001b[1;32m      7\u001b[0m \u001b[39m# predict the word with highest likelihood\u001b[39;00m\n\u001b[1;32m      8\u001b[0m word_index \u001b[39m=\u001b[39m np\u001b[39m.\u001b[39margmax(log_likelihood)\n",
      "File \u001b[0;32m~/.local/lib/python3.10/site-packages/hmmlearn/base.py:225\u001b[0m, in \u001b[0;36m_AbstractHMM.score\u001b[0;34m(self, X, lengths)\u001b[0m\n\u001b[1;32m    202\u001b[0m \u001b[39mdef\u001b[39;00m \u001b[39mscore\u001b[39m(\u001b[39mself\u001b[39m, X, lengths\u001b[39m=\u001b[39m\u001b[39mNone\u001b[39;00m):\n\u001b[1;32m    203\u001b[0m     \u001b[39m\"\"\"\u001b[39;00m\n\u001b[1;32m    204\u001b[0m \u001b[39m    Compute the log probability under the model.\u001b[39;00m\n\u001b[1;32m    205\u001b[0m \n\u001b[0;32m   (...)\u001b[0m\n\u001b[1;32m    223\u001b[0m \u001b[39m    decode : Find most likely state sequence corresponding to ``X``.\u001b[39;00m\n\u001b[1;32m    224\u001b[0m \u001b[39m    \"\"\"\u001b[39;00m\n\u001b[0;32m--> 225\u001b[0m     \u001b[39mreturn\u001b[39;00m \u001b[39mself\u001b[39;49m\u001b[39m.\u001b[39;49m_score(X, lengths, compute_posteriors\u001b[39m=\u001b[39;49m\u001b[39mFalse\u001b[39;49;00m)[\u001b[39m0\u001b[39m]\n",
      "File \u001b[0;32m~/.local/lib/python3.10/site-packages/hmmlearn/base.py:236\u001b[0m, in \u001b[0;36m_AbstractHMM._score\u001b[0;34m(self, X, lengths, compute_posteriors)\u001b[0m\n\u001b[1;32m    228\u001b[0m \u001b[39m\"\"\"\u001b[39;00m\n\u001b[1;32m    229\u001b[0m \u001b[39mHelper for `score` and `score_samples`.\u001b[39;00m\n\u001b[1;32m    230\u001b[0m \n\u001b[0;32m   (...)\u001b[0m\n\u001b[1;32m    233\u001b[0m \u001b[39mfor the latter).\u001b[39;00m\n\u001b[1;32m    234\u001b[0m \u001b[39m\"\"\"\u001b[39;00m\n\u001b[1;32m    235\u001b[0m check_is_fitted(\u001b[39mself\u001b[39m, \u001b[39m\"\u001b[39m\u001b[39mstartprob_\u001b[39m\u001b[39m\"\u001b[39m)\n\u001b[0;32m--> 236\u001b[0m \u001b[39mself\u001b[39;49m\u001b[39m.\u001b[39;49m_check()\n\u001b[1;32m    238\u001b[0m X \u001b[39m=\u001b[39m check_array(X)\n\u001b[1;32m    239\u001b[0m impl \u001b[39m=\u001b[39m {\n\u001b[1;32m    240\u001b[0m     \u001b[39m\"\u001b[39m\u001b[39mscaling\u001b[39m\u001b[39m\"\u001b[39m: \u001b[39mself\u001b[39m\u001b[39m.\u001b[39m_score_scaling,\n\u001b[1;32m    241\u001b[0m     \u001b[39m\"\u001b[39m\u001b[39mlog\u001b[39m\u001b[39m\"\u001b[39m: \u001b[39mself\u001b[39m\u001b[39m.\u001b[39m_score_log,\n\u001b[1;32m    242\u001b[0m }[\u001b[39mself\u001b[39m\u001b[39m.\u001b[39mimplementation]\n",
      "File \u001b[0;32m~/.local/lib/python3.10/site-packages/hmmlearn/hmm.py:630\u001b[0m, in \u001b[0;36mGMMHMM._check\u001b[0;34m(self)\u001b[0m\n\u001b[1;32m    629\u001b[0m \u001b[39mdef\u001b[39;00m \u001b[39m_check\u001b[39m(\u001b[39mself\u001b[39m):\n\u001b[0;32m--> 630\u001b[0m     \u001b[39msuper\u001b[39;49m()\u001b[39m.\u001b[39;49m_check()\n\u001b[1;32m    631\u001b[0m     \u001b[39mif\u001b[39;00m \u001b[39mnot\u001b[39;00m \u001b[39mhasattr\u001b[39m(\u001b[39mself\u001b[39m, \u001b[39m\"\u001b[39m\u001b[39mn_features\u001b[39m\u001b[39m\"\u001b[39m):\n\u001b[1;32m    632\u001b[0m         \u001b[39mself\u001b[39m\u001b[39m.\u001b[39mn_features \u001b[39m=\u001b[39m \u001b[39mself\u001b[39m\u001b[39m.\u001b[39mmeans_\u001b[39m.\u001b[39mshape[\u001b[39m2\u001b[39m]\n",
      "File \u001b[0;32m~/.local/lib/python3.10/site-packages/hmmlearn/base.py:946\u001b[0m, in \u001b[0;36mBaseHMM._check\u001b[0;34m(self)\u001b[0m\n\u001b[1;32m    944\u001b[0m \u001b[39mif\u001b[39;00m \u001b[39mlen\u001b[39m(\u001b[39mself\u001b[39m\u001b[39m.\u001b[39mstartprob_) \u001b[39m!=\u001b[39m \u001b[39mself\u001b[39m\u001b[39m.\u001b[39mn_components:\n\u001b[1;32m    945\u001b[0m     \u001b[39mraise\u001b[39;00m \u001b[39mValueError\u001b[39;00m(\u001b[39m\"\u001b[39m\u001b[39mstartprob_ must have length n_components\u001b[39m\u001b[39m\"\u001b[39m)\n\u001b[0;32m--> 946\u001b[0m \u001b[39mself\u001b[39;49m\u001b[39m.\u001b[39;49m_check_sum_1(\u001b[39m\"\u001b[39;49m\u001b[39mstartprob_\u001b[39;49m\u001b[39m\"\u001b[39;49m)\n\u001b[1;32m    948\u001b[0m \u001b[39mself\u001b[39m\u001b[39m.\u001b[39mtransmat_ \u001b[39m=\u001b[39m np\u001b[39m.\u001b[39masarray(\u001b[39mself\u001b[39m\u001b[39m.\u001b[39mtransmat_)\n\u001b[1;32m    949\u001b[0m \u001b[39mif\u001b[39;00m \u001b[39mself\u001b[39m\u001b[39m.\u001b[39mtransmat_\u001b[39m.\u001b[39mshape \u001b[39m!=\u001b[39m (\u001b[39mself\u001b[39m\u001b[39m.\u001b[39mn_components, \u001b[39mself\u001b[39m\u001b[39m.\u001b[39mn_components):\n",
      "File \u001b[0;32m~/.local/lib/python3.10/site-packages/hmmlearn/base.py:928\u001b[0m, in \u001b[0;36mBaseHMM._check_sum_1\u001b[0;34m(self, name)\u001b[0m\n\u001b[1;32m    926\u001b[0m s \u001b[39m=\u001b[39m \u001b[39mgetattr\u001b[39m(\u001b[39mself\u001b[39m, name)\u001b[39m.\u001b[39msum(axis\u001b[39m=\u001b[39m\u001b[39m-\u001b[39m\u001b[39m1\u001b[39m)\n\u001b[1;32m    927\u001b[0m \u001b[39mif\u001b[39;00m \u001b[39mnot\u001b[39;00m np\u001b[39m.\u001b[39mallclose(s, \u001b[39m1\u001b[39m):\n\u001b[0;32m--> 928\u001b[0m     \u001b[39mraise\u001b[39;00m \u001b[39mValueError\u001b[39;00m(\n\u001b[1;32m    929\u001b[0m         \u001b[39mf\u001b[39m\u001b[39m\"\u001b[39m\u001b[39m{\u001b[39;00mname\u001b[39m}\u001b[39;00m\u001b[39m must sum to 1 (got \u001b[39m\u001b[39m{\u001b[39;00ms\u001b[39m:\u001b[39;00m\u001b[39m.4f\u001b[39m\u001b[39m}\u001b[39;00m\u001b[39m)\u001b[39m\u001b[39m\"\u001b[39m \u001b[39mif\u001b[39;00m s\u001b[39m.\u001b[39mndim \u001b[39m==\u001b[39m \u001b[39m0\u001b[39m \u001b[39melse\u001b[39;00m\n\u001b[1;32m    930\u001b[0m         \u001b[39mf\u001b[39m\u001b[39m\"\u001b[39m\u001b[39m{\u001b[39;00mname\u001b[39m}\u001b[39;00m\u001b[39m rows must sum to 1 (got \u001b[39m\u001b[39m{\u001b[39;00ms\u001b[39m}\u001b[39;00m\u001b[39m)\u001b[39m\u001b[39m\"\u001b[39m \u001b[39mif\u001b[39;00m s\u001b[39m.\u001b[39mndim \u001b[39m==\u001b[39m \u001b[39m1\u001b[39m \u001b[39melse\u001b[39;00m\n\u001b[1;32m    931\u001b[0m         \u001b[39m\"\u001b[39m\u001b[39mExpected 1D or 2D array\u001b[39m\u001b[39m\"\u001b[39m)\n",
      "\u001b[0;31mValueError\u001b[0m: startprob_ must sum to 1 (got nan)"
     ]
    }
   ],
   "source": [
    "word_index= validate_model(word_mfcc_features, word_models)"
   ]
  }
 ],
 "metadata": {
  "kernelspec": {
   "display_name": "TensorFlow",
   "language": "python",
   "name": "python3"
  },
  "language_info": {
   "codemirror_mode": {
    "name": "ipython",
    "version": 3
   },
   "file_extension": ".py",
   "mimetype": "text/x-python",
   "name": "python",
   "nbconvert_exporter": "python",
   "pygments_lexer": "ipython3",
   "version": "3.10.8"
  },
  "orig_nbformat": 4,
  "vscode": {
   "interpreter": {
    "hash": "45c48fb264bba0529b917885aa2fdf54bfc5ac58ac8ea30a57d1df6ad7c47fba"
   }
  }
 },
 "nbformat": 4,
 "nbformat_minor": 2
}
