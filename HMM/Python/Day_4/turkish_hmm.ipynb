{
 "cells": [
  {
   "cell_type": "code",
   "execution_count": 1,
   "metadata": {},
   "outputs": [],
   "source": [
    "# import the neccessary libs\n",
    "import os\n",
    "import numpy as np \n",
    "import librosa\n",
    "import hmmlearn.hmm as hmm"
   ]
  },
  {
   "attachments": {},
   "cell_type": "markdown",
   "metadata": {},
   "source": [
    "`Step 1: Collect a dataset of audio recordings of each command to recognize`"
   ]
  },
  {
   "cell_type": "code",
   "execution_count": 46,
   "metadata": {},
   "outputs": [],
   "source": [
    "# trial 1: Error: We end up with a directory instead of a file when executing the for commans in commands\n",
    "#                 loop: therefore, we used an alternative folder with few datasamples in a single dir\n",
    "\n",
    "\n",
    "# dataset_path = \"/home/ix502iv/Documents/Audio_Trad/HMM/custom_commands\" # use absolute path\n",
    "# commands = [\"demo_fider_ac\", \"demo_fider_bilgileri\", \"demo_fider_kapat\", \"nem_durumu\", \"gsm_durumu\"]\n",
    "# dataset = {}"
   ]
  },
  {
   "cell_type": "code",
   "execution_count": 49,
   "metadata": {},
   "outputs": [],
   "source": [
    "# trial 2\n",
    "dataset_path = \"/home/ix502iv/Documents/Audio_Trad/HMM/custom_commands_copy\" # use absolute path\n",
    "commands = [\"demo_fider_ac\", \"demo_fider_bilgileri\", \"demo_fider_kapat\", \"nem_durumu\", \"gsm_durumu\"]\n",
    "dataset = {}"
   ]
  },
  {
   "cell_type": "code",
   "execution_count": 64,
   "metadata": {},
   "outputs": [],
   "source": [
    "for command in commands:\n",
    "    command_path = os.path.join(dataset_path, command)\n",
    "    # print(command_path)\n",
    "    files = os.listdir(command_path)\n",
    "    # print(files)\n",
    "    recordings = []\n",
    "    for file in files:\n",
    "        file_path = os.path.join(command_path, file)\n",
    "        # print(file_path)\n",
    "        # we've moved one file: demo fider ac into a directory above: remeber to delete it\n",
    "        recording, sr = librosa.load(file_path, sr=None)\n",
    "        # print(recording, sr)\n",
    "        recordings.append(recording)\n",
    "    dataset[command] = recordings"
   ]
  }
 ],
 "metadata": {
  "kernelspec": {
   "display_name": "TensorFlow",
   "language": "python",
   "name": "python3"
  },
  "language_info": {
   "codemirror_mode": {
    "name": "ipython",
    "version": 3
   },
   "file_extension": ".py",
   "mimetype": "text/x-python",
   "name": "python",
   "nbconvert_exporter": "python",
   "pygments_lexer": "ipython3",
   "version": "3.10.8"
  },
  "orig_nbformat": 4,
  "vscode": {
   "interpreter": {
    "hash": "45c48fb264bba0529b917885aa2fdf54bfc5ac58ac8ea30a57d1df6ad7c47fba"
   }
  }
 },
 "nbformat": 4,
 "nbformat_minor": 2
}
