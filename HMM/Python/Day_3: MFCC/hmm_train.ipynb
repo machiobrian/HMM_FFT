{
 "cells": [
  {
   "cell_type": "code",
   "execution_count": 150,
   "metadata": {},
   "outputs": [],
   "source": [
    "import librosa\n",
    "import numpy\n",
    "import hmmlearn.hmm as hmm "
   ]
  },
  {
   "attachments": {},
   "cell_type": "markdown",
   "metadata": {},
   "source": [
    "* extract mfcc features from a library of words."
   ]
  },
  {
   "cell_type": "code",
   "execution_count": 151,
   "metadata": {},
   "outputs": [],
   "source": [
    "# define function to extract mfcc\n",
    "def to_mfcc(wav):\n",
    "    data, sample_rate = librosa.core.load(wav, dtype=numpy.float32)\n",
    "    return(librosa.feature.mfcc(y=data, sr=16000, n_mfcc=13))"
   ]
  },
  {
   "cell_type": "code",
   "execution_count": 164,
   "metadata": {},
   "outputs": [],
   "source": [
    "word_directories = [\"./audio/bye.wav\", './audio/hello1.wav', './audio/hello2.wav', './audio/hello3.wav']\n",
    "audio_models = []\n",
    "\n",
    "for audio_sample in word_directories:\n",
    "    audio_sample_mfcc = []\n",
    "    # print(audio_sample)\n",
    "    audio_sample_mfcc.append(to_mfcc(audio_sample))\n",
    "    # print(audio_sample_mfcc)\n",
    "\n",
    "    # stack mfcc features for all audio files in the directory\n",
    "    word_mfcc_features = numpy.vstack(audio_sample_mfcc)\n",
    "    # print(word_mfcc_features)\n",
    "\n",
    "    # train an HMM on the word_mfcc_features\n",
    "    num_states = 1 # hidden number of states\n",
    "    num_mixtures = 1 # hiddden number of mixtures\n",
    "\n",
    "    # specify the starting probs\n",
    "    # start_prob\n",
    "\n",
    "    audio_model = hmm.GMMHMM(n_components=num_states, n_mix=num_mixtures)\n",
    "    audio_model = hmm.GaussianHMM(n_components=num_states, covariance_type=\"diag\", n_iter=100)\n",
    "    audio_model.fit(word_mfcc_features)\n",
    "    \n",
    "    audio_models.append(audio_model)\n"
   ]
  },
  {
   "cell_type": "code",
   "execution_count": 163,
   "metadata": {},
   "outputs": [
    {
     "ename": "AttributeError",
     "evalue": "'GMMHMM' object has no attribute 'start_prob_'",
     "output_type": "error",
     "traceback": [
      "\u001b[0;31m---------------------------------------------------------------------------\u001b[0m",
      "\u001b[0;31mAttributeError\u001b[0m                            Traceback (most recent call last)",
      "Cell \u001b[0;32mIn[163], line 1\u001b[0m\n\u001b[0;32m----> 1\u001b[0m \u001b[39mprint\u001b[39m(audio_model\u001b[39m.\u001b[39;49mstart_prob_\u001b[39m.\u001b[39mshape)\n",
      "\u001b[0;31mAttributeError\u001b[0m: 'GMMHMM' object has no attribute 'start_prob_'"
     ]
    }
   ],
   "source": [
    "print(audio_model.start_prob_.shape)"
   ]
  },
  {
   "cell_type": "code",
   "execution_count": 153,
   "metadata": {},
   "outputs": [],
   "source": [
    "# load the test audio file and extract MFCC features\n",
    "mfcc_features = to_mfcc('./audio/goodbye.wav')\n",
    "# mfcc_features"
   ]
  },
  {
   "cell_type": "code",
   "execution_count": 154,
   "metadata": {},
   "outputs": [
    {
     "data": {
      "text/plain": [
       "(13, 43)"
      ]
     },
     "execution_count": 154,
     "metadata": {},
     "output_type": "execute_result"
    }
   ],
   "source": [
    "mfcc_features.shape"
   ]
  },
  {
   "cell_type": "code",
   "execution_count": 160,
   "metadata": {},
   "outputs": [
    {
     "data": {
      "text/plain": [
       "(13, 43)"
      ]
     },
     "execution_count": 160,
     "metadata": {},
     "output_type": "execute_result"
    }
   ],
   "source": [
    "# predict the most likely sequence of hidden states\n",
    "mfcc_features = mfcc_features.reshape(-1, mfcc_features.shape[-1])\n",
    "# logprob, state_seq = audio_model.decode(mfcc_features)\n",
    "mfcc_features.shape\n"
   ]
  }
 ],
 "metadata": {
  "kernelspec": {
   "display_name": "TensorFlow",
   "language": "python",
   "name": "python3"
  },
  "language_info": {
   "codemirror_mode": {
    "name": "ipython",
    "version": 3
   },
   "file_extension": ".py",
   "mimetype": "text/x-python",
   "name": "python",
   "nbconvert_exporter": "python",
   "pygments_lexer": "ipython3",
   "version": "3.10.8"
  },
  "orig_nbformat": 4,
  "vscode": {
   "interpreter": {
    "hash": "45c48fb264bba0529b917885aa2fdf54bfc5ac58ac8ea30a57d1df6ad7c47fba"
   }
  }
 },
 "nbformat": 4,
 "nbformat_minor": 2
}
