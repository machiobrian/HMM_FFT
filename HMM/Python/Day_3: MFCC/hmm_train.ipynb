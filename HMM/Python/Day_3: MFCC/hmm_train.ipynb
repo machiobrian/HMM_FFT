{
 "cells": [
  {
   "cell_type": "code",
   "execution_count": 39,
   "metadata": {},
   "outputs": [],
   "source": [
    "import librosa\n",
    "import numpy\n",
    "import hmmlearn.hmm as hmm "
   ]
  },
  {
   "attachments": {},
   "cell_type": "markdown",
   "metadata": {},
   "source": [
    "* extract mfcc features from a library of words."
   ]
  },
  {
   "cell_type": "code",
   "execution_count": 40,
   "metadata": {},
   "outputs": [],
   "source": [
    "# define function to extract mfcc\n",
    "def to_mfcc(wav):\n",
    "    data, sample_rate = librosa.core.load(wav, dtype=numpy.float32)\n",
    "    return(librosa.feature.mfcc(y=data, sr=16000, n_mfcc=13)) # [:,:37])"
   ]
  },
  {
   "cell_type": "code",
   "execution_count": 41,
   "metadata": {},
   "outputs": [],
   "source": [
    "# def to_mfcc(wav):\n",
    "#     data, sample_rate = librosa.core.load(wav, dtype=numpy.float32)\n",
    "#     mfcc = librosa.feature.mfcc(y=data, sr=16000, n_mfcc=13)\n",
    "#     return mfcc.reshape(1, -1)\n"
   ]
  },
  {
   "cell_type": "code",
   "execution_count": 42,
   "metadata": {},
   "outputs": [],
   "source": [
    "word_directories = [\"./audio/bye.wav\", './audio/hello1.wav', './audio/hello2.wav', './audio/hello3.wav']\n",
    "audio_models = []\n",
    "\n",
    "for audio_sample in word_directories:\n",
    "    audio_sample_mfcc = []\n",
    "    # print(audio_sample)\n",
    "    audio_sample_mfcc.append(to_mfcc(audio_sample))\n",
    "    # print(audio_sample_mfcc)\n",
    "\n",
    "    # stack mfcc features for all audio files in the directory\n",
    "    word_mfcc_features = numpy.vstack(audio_sample_mfcc)\n",
    "    # print(word_mfcc_features)\n",
    "\n",
    "    # train an HMM on the word_mfcc_features\n",
    "    num_states = 1 # hidden number of states\n",
    "    num_mixtures = 1 # hiddden number of mixtures\n",
    "\n",
    "    # specify the starting probs\n",
    "    # start_prob\n",
    "\n",
    "    audio_model = hmm.GMMHMM(n_components=num_states, n_mix=num_mixtures)\n",
    "    # audio_model = hmm.GaussianHMM(n_components=num_states, covariance_type=\"diag\", n_iter=100)\n",
    "    audio_model.fit(word_mfcc_features)\n",
    "    \n",
    "    audio_models.append(audio_model)\n"
   ]
  },
  {
   "cell_type": "code",
   "execution_count": 45,
   "metadata": {},
   "outputs": [
    {
     "name": "stdout",
     "output_type": "stream",
     "text": [
      "Predicted audio: ./audio/hello1.wav\n"
     ]
    }
   ],
   "source": [
    "# load the test audio file and extract MFCC features\n",
    "mfcc_features = to_mfcc('./audio/hello3.wav')\n",
    "# mfcc_features\n",
    "\n",
    "# initialize a variable to store the prediction\n",
    "prediction = None\n",
    "max_score = -float(\"inf\")\n",
    "\n",
    "# loop through the trained models\n",
    "for i, audio_model in enumerate(audio_models):\n",
    "    # use the \"score\" method of the HMM model to get the likelihood of the test audio for this model\n",
    "    score = audio_model.score(numpy.reshape(mfcc_features, (-1,1)))\n",
    "    # update the prediction if the score for this model is higher than the current max_score\n",
    "    if score > max_score:\n",
    "        prediction = i\n",
    "        max_score = score\n",
    "\n",
    "# print the prediction (the index of the HMM model with the highest score)\n",
    "print(f\"Predicted audio: {word_directories[prediction]}\")\n"
   ]
  }
 ],
 "metadata": {
  "kernelspec": {
   "display_name": "TensorFlow",
   "language": "python",
   "name": "python3"
  },
  "language_info": {
   "codemirror_mode": {
    "name": "ipython",
    "version": 3
   },
   "file_extension": ".py",
   "mimetype": "text/x-python",
   "name": "python",
   "nbconvert_exporter": "python",
   "pygments_lexer": "ipython3",
   "version": "3.10.8"
  },
  "orig_nbformat": 4,
  "vscode": {
   "interpreter": {
    "hash": "45c48fb264bba0529b917885aa2fdf54bfc5ac58ac8ea30a57d1df6ad7c47fba"
   }
  }
 },
 "nbformat": 4,
 "nbformat_minor": 2
}
