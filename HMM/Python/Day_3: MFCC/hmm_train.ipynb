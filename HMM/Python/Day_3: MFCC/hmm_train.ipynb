{
 "cells": [
  {
   "cell_type": "code",
   "execution_count": 1,
   "metadata": {},
   "outputs": [],
   "source": [
    "import librosa\n",
    "import numpy\n",
    "import hmmlearn.hmm as hmm "
   ]
  },
  {
   "attachments": {},
   "cell_type": "markdown",
   "metadata": {},
   "source": [
    "* extract mfcc features from a library of words."
   ]
  },
  {
   "cell_type": "code",
   "execution_count": 2,
   "metadata": {},
   "outputs": [],
   "source": [
    "# define function to extract mfcc\n",
    "def to_mfcc(wav):\n",
    "    data, sample_rate = librosa.core.load(wav, dtype=numpy.float32)\n",
    "    return(librosa.feature.mfcc(y=data, sr=16000, n_mfcc=13)) # [:,:37])"
   ]
  },
  {
   "cell_type": "code",
   "execution_count": 41,
   "metadata": {},
   "outputs": [],
   "source": [
    "# def to_mfcc(wav):\n",
    "#     data, sample_rate = librosa.core.load(wav, dtype=numpy.float32)\n",
    "#     mfcc = librosa.feature.mfcc(y=data, sr=16000, n_mfcc=13)\n",
    "#     return mfcc.reshape(1, -1)\n"
   ]
  },
  {
   "cell_type": "code",
   "execution_count": 3,
   "metadata": {},
   "outputs": [
    {
     "name": "stderr",
     "output_type": "stream",
     "text": [
      "Fitting a model with 2390 free scalar parameters with only 481 data points will result in a degenerate solution.\n",
      "/home/ix502iv/.local/lib/python3.10/site-packages/hmmlearn/hmm.py:788: RuntimeWarning: divide by zero encountered in divide\n",
      "  self.covars_ = c_n / c_d\n",
      "/home/ix502iv/.local/lib/python3.10/site-packages/hmmlearn/hmm.py:788: RuntimeWarning: invalid value encountered in divide\n",
      "  self.covars_ = c_n / c_d\n",
      "/home/ix502iv/.local/lib/python3.10/site-packages/hmmlearn/_emissions.py:196: RuntimeWarning: divide by zero encountered in log\n",
      "  log_cur_weights = np.log(self.weights_[i_comp])\n",
      "Fitting a model with 2198 free scalar parameters with only 442 data points will result in a degenerate solution.\n",
      "/home/ix502iv/.local/lib/python3.10/site-packages/hmmlearn/hmm.py:788: RuntimeWarning: divide by zero encountered in divide\n",
      "  self.covars_ = c_n / c_d\n",
      "/home/ix502iv/.local/lib/python3.10/site-packages/hmmlearn/hmm.py:788: RuntimeWarning: invalid value encountered in divide\n",
      "  self.covars_ = c_n / c_d\n",
      "/home/ix502iv/.local/lib/python3.10/site-packages/hmmlearn/_emissions.py:196: RuntimeWarning: divide by zero encountered in log\n",
      "  log_cur_weights = np.log(self.weights_[i_comp])\n",
      "Fitting a model with 3222 free scalar parameters with only 650 data points will result in a degenerate solution.\n",
      "/home/ix502iv/.local/lib/python3.10/site-packages/hmmlearn/hmm.py:788: RuntimeWarning: divide by zero encountered in divide\n",
      "  self.covars_ = c_n / c_d\n",
      "/home/ix502iv/.local/lib/python3.10/site-packages/hmmlearn/hmm.py:788: RuntimeWarning: invalid value encountered in divide\n",
      "  self.covars_ = c_n / c_d\n",
      "/home/ix502iv/.local/lib/python3.10/site-packages/hmmlearn/_emissions.py:196: RuntimeWarning: divide by zero encountered in log\n",
      "  log_cur_weights = np.log(self.weights_[i_comp])\n",
      "/home/ix502iv/miniconda3/envs/TensorFlow/lib/python3.10/site-packages/scipy/special/_logsumexp.py:110: RuntimeWarning: overflow encountered in exp\n",
      "  tmp = np.exp(a - a_max)\n",
      "Fitting a model with 4054 free scalar parameters with only 819 data points will result in a degenerate solution.\n",
      "/home/ix502iv/.local/lib/python3.10/site-packages/hmmlearn/hmm.py:788: RuntimeWarning: divide by zero encountered in divide\n",
      "  self.covars_ = c_n / c_d\n",
      "/home/ix502iv/.local/lib/python3.10/site-packages/hmmlearn/hmm.py:788: RuntimeWarning: invalid value encountered in divide\n",
      "  self.covars_ = c_n / c_d\n",
      "/home/ix502iv/.local/lib/python3.10/site-packages/hmmlearn/_emissions.py:196: RuntimeWarning: divide by zero encountered in log\n",
      "  log_cur_weights = np.log(self.weights_[i_comp])\n"
     ]
    }
   ],
   "source": [
    "word_directories = [\"./audio/bye.wav\", './audio/hello1.wav', './audio/hello2.wav', './audio/hello3.wav']\n",
    "audio_models = []\n",
    "\n",
    "for audio_sample in word_directories:\n",
    "    audio_sample_mfcc = []\n",
    "    # print(audio_sample)\n",
    "    audio_sample_mfcc.append(to_mfcc(audio_sample))\n",
    "    # print(audio_sample_mfcc)\n",
    "\n",
    "    # stack mfcc features for all audio files in the directory\n",
    "    word_mfcc_features = numpy.vstack(audio_sample_mfcc)\n",
    "    # print(word_mfcc_features)\n",
    "\n",
    "    # train an HMM on the word_mfcc_features\n",
    "    num_states = 4 # hidden number of states\n",
    "    num_mixtures = 8 # hiddden number of mixtures\n",
    "\n",
    "    # specify the starting probs\n",
    "    # start_prob\n",
    "\n",
    "    audio_model = hmm.GMMHMM(n_components=num_states, n_mix=num_mixtures)\n",
    "    # audio_model = hmm.GaussianHMM(n_components=num_states, covariance_type=\"diag\", n_iter=100)\n",
    "    audio_model.fit(word_mfcc_features)\n",
    "    \n",
    "    audio_models.append(audio_model)\n"
   ]
  },
  {
   "cell_type": "code",
   "execution_count": 4,
   "metadata": {},
   "outputs": [
    {
     "ename": "ValueError",
     "evalue": "startprob_ must sum to 1 (got nan)",
     "output_type": "error",
     "traceback": [
      "\u001b[0;31m---------------------------------------------------------------------------\u001b[0m",
      "\u001b[0;31mValueError\u001b[0m                                Traceback (most recent call last)",
      "Cell \u001b[0;32mIn[4], line 12\u001b[0m\n\u001b[1;32m      9\u001b[0m \u001b[39m# loop through the trained models\u001b[39;00m\n\u001b[1;32m     10\u001b[0m \u001b[39mfor\u001b[39;00m i, audio_model \u001b[39min\u001b[39;00m \u001b[39menumerate\u001b[39m(audio_models):\n\u001b[1;32m     11\u001b[0m     \u001b[39m# use the \"score\" method of the HMM model to get the likelihood of the test audio for this model\u001b[39;00m\n\u001b[0;32m---> 12\u001b[0m     score \u001b[39m=\u001b[39m audio_model\u001b[39m.\u001b[39;49mscore(numpy\u001b[39m.\u001b[39;49mreshape(mfcc_features, (\u001b[39m-\u001b[39;49m\u001b[39m1\u001b[39;49m,\u001b[39m1\u001b[39;49m)))\n\u001b[1;32m     13\u001b[0m     \u001b[39m# update the prediction if the score for this model is higher than the current max_score\u001b[39;00m\n\u001b[1;32m     14\u001b[0m     \u001b[39mif\u001b[39;00m score \u001b[39m>\u001b[39m max_score:\n",
      "File \u001b[0;32m~/.local/lib/python3.10/site-packages/hmmlearn/base.py:225\u001b[0m, in \u001b[0;36m_AbstractHMM.score\u001b[0;34m(self, X, lengths)\u001b[0m\n\u001b[1;32m    202\u001b[0m \u001b[39mdef\u001b[39;00m \u001b[39mscore\u001b[39m(\u001b[39mself\u001b[39m, X, lengths\u001b[39m=\u001b[39m\u001b[39mNone\u001b[39;00m):\n\u001b[1;32m    203\u001b[0m     \u001b[39m\"\"\"\u001b[39;00m\n\u001b[1;32m    204\u001b[0m \u001b[39m    Compute the log probability under the model.\u001b[39;00m\n\u001b[1;32m    205\u001b[0m \n\u001b[0;32m   (...)\u001b[0m\n\u001b[1;32m    223\u001b[0m \u001b[39m    decode : Find most likely state sequence corresponding to ``X``.\u001b[39;00m\n\u001b[1;32m    224\u001b[0m \u001b[39m    \"\"\"\u001b[39;00m\n\u001b[0;32m--> 225\u001b[0m     \u001b[39mreturn\u001b[39;00m \u001b[39mself\u001b[39;49m\u001b[39m.\u001b[39;49m_score(X, lengths, compute_posteriors\u001b[39m=\u001b[39;49m\u001b[39mFalse\u001b[39;49;00m)[\u001b[39m0\u001b[39m]\n",
      "File \u001b[0;32m~/.local/lib/python3.10/site-packages/hmmlearn/base.py:236\u001b[0m, in \u001b[0;36m_AbstractHMM._score\u001b[0;34m(self, X, lengths, compute_posteriors)\u001b[0m\n\u001b[1;32m    228\u001b[0m \u001b[39m\"\"\"\u001b[39;00m\n\u001b[1;32m    229\u001b[0m \u001b[39mHelper for `score` and `score_samples`.\u001b[39;00m\n\u001b[1;32m    230\u001b[0m \n\u001b[0;32m   (...)\u001b[0m\n\u001b[1;32m    233\u001b[0m \u001b[39mfor the latter).\u001b[39;00m\n\u001b[1;32m    234\u001b[0m \u001b[39m\"\"\"\u001b[39;00m\n\u001b[1;32m    235\u001b[0m check_is_fitted(\u001b[39mself\u001b[39m, \u001b[39m\"\u001b[39m\u001b[39mstartprob_\u001b[39m\u001b[39m\"\u001b[39m)\n\u001b[0;32m--> 236\u001b[0m \u001b[39mself\u001b[39;49m\u001b[39m.\u001b[39;49m_check()\n\u001b[1;32m    238\u001b[0m X \u001b[39m=\u001b[39m check_array(X)\n\u001b[1;32m    239\u001b[0m impl \u001b[39m=\u001b[39m {\n\u001b[1;32m    240\u001b[0m     \u001b[39m\"\u001b[39m\u001b[39mscaling\u001b[39m\u001b[39m\"\u001b[39m: \u001b[39mself\u001b[39m\u001b[39m.\u001b[39m_score_scaling,\n\u001b[1;32m    241\u001b[0m     \u001b[39m\"\u001b[39m\u001b[39mlog\u001b[39m\u001b[39m\"\u001b[39m: \u001b[39mself\u001b[39m\u001b[39m.\u001b[39m_score_log,\n\u001b[1;32m    242\u001b[0m }[\u001b[39mself\u001b[39m\u001b[39m.\u001b[39mimplementation]\n",
      "File \u001b[0;32m~/.local/lib/python3.10/site-packages/hmmlearn/hmm.py:630\u001b[0m, in \u001b[0;36mGMMHMM._check\u001b[0;34m(self)\u001b[0m\n\u001b[1;32m    629\u001b[0m \u001b[39mdef\u001b[39;00m \u001b[39m_check\u001b[39m(\u001b[39mself\u001b[39m):\n\u001b[0;32m--> 630\u001b[0m     \u001b[39msuper\u001b[39;49m()\u001b[39m.\u001b[39;49m_check()\n\u001b[1;32m    631\u001b[0m     \u001b[39mif\u001b[39;00m \u001b[39mnot\u001b[39;00m \u001b[39mhasattr\u001b[39m(\u001b[39mself\u001b[39m, \u001b[39m\"\u001b[39m\u001b[39mn_features\u001b[39m\u001b[39m\"\u001b[39m):\n\u001b[1;32m    632\u001b[0m         \u001b[39mself\u001b[39m\u001b[39m.\u001b[39mn_features \u001b[39m=\u001b[39m \u001b[39mself\u001b[39m\u001b[39m.\u001b[39mmeans_\u001b[39m.\u001b[39mshape[\u001b[39m2\u001b[39m]\n",
      "File \u001b[0;32m~/.local/lib/python3.10/site-packages/hmmlearn/base.py:946\u001b[0m, in \u001b[0;36mBaseHMM._check\u001b[0;34m(self)\u001b[0m\n\u001b[1;32m    944\u001b[0m \u001b[39mif\u001b[39;00m \u001b[39mlen\u001b[39m(\u001b[39mself\u001b[39m\u001b[39m.\u001b[39mstartprob_) \u001b[39m!=\u001b[39m \u001b[39mself\u001b[39m\u001b[39m.\u001b[39mn_components:\n\u001b[1;32m    945\u001b[0m     \u001b[39mraise\u001b[39;00m \u001b[39mValueError\u001b[39;00m(\u001b[39m\"\u001b[39m\u001b[39mstartprob_ must have length n_components\u001b[39m\u001b[39m\"\u001b[39m)\n\u001b[0;32m--> 946\u001b[0m \u001b[39mself\u001b[39;49m\u001b[39m.\u001b[39;49m_check_sum_1(\u001b[39m\"\u001b[39;49m\u001b[39mstartprob_\u001b[39;49m\u001b[39m\"\u001b[39;49m)\n\u001b[1;32m    948\u001b[0m \u001b[39mself\u001b[39m\u001b[39m.\u001b[39mtransmat_ \u001b[39m=\u001b[39m np\u001b[39m.\u001b[39masarray(\u001b[39mself\u001b[39m\u001b[39m.\u001b[39mtransmat_)\n\u001b[1;32m    949\u001b[0m \u001b[39mif\u001b[39;00m \u001b[39mself\u001b[39m\u001b[39m.\u001b[39mtransmat_\u001b[39m.\u001b[39mshape \u001b[39m!=\u001b[39m (\u001b[39mself\u001b[39m\u001b[39m.\u001b[39mn_components, \u001b[39mself\u001b[39m\u001b[39m.\u001b[39mn_components):\n",
      "File \u001b[0;32m~/.local/lib/python3.10/site-packages/hmmlearn/base.py:928\u001b[0m, in \u001b[0;36mBaseHMM._check_sum_1\u001b[0;34m(self, name)\u001b[0m\n\u001b[1;32m    926\u001b[0m s \u001b[39m=\u001b[39m \u001b[39mgetattr\u001b[39m(\u001b[39mself\u001b[39m, name)\u001b[39m.\u001b[39msum(axis\u001b[39m=\u001b[39m\u001b[39m-\u001b[39m\u001b[39m1\u001b[39m)\n\u001b[1;32m    927\u001b[0m \u001b[39mif\u001b[39;00m \u001b[39mnot\u001b[39;00m np\u001b[39m.\u001b[39mallclose(s, \u001b[39m1\u001b[39m):\n\u001b[0;32m--> 928\u001b[0m     \u001b[39mraise\u001b[39;00m \u001b[39mValueError\u001b[39;00m(\n\u001b[1;32m    929\u001b[0m         \u001b[39mf\u001b[39m\u001b[39m\"\u001b[39m\u001b[39m{\u001b[39;00mname\u001b[39m}\u001b[39;00m\u001b[39m must sum to 1 (got \u001b[39m\u001b[39m{\u001b[39;00ms\u001b[39m:\u001b[39;00m\u001b[39m.4f\u001b[39m\u001b[39m}\u001b[39;00m\u001b[39m)\u001b[39m\u001b[39m\"\u001b[39m \u001b[39mif\u001b[39;00m s\u001b[39m.\u001b[39mndim \u001b[39m==\u001b[39m \u001b[39m0\u001b[39m \u001b[39melse\u001b[39;00m\n\u001b[1;32m    930\u001b[0m         \u001b[39mf\u001b[39m\u001b[39m\"\u001b[39m\u001b[39m{\u001b[39;00mname\u001b[39m}\u001b[39;00m\u001b[39m rows must sum to 1 (got \u001b[39m\u001b[39m{\u001b[39;00ms\u001b[39m}\u001b[39;00m\u001b[39m)\u001b[39m\u001b[39m\"\u001b[39m \u001b[39mif\u001b[39;00m s\u001b[39m.\u001b[39mndim \u001b[39m==\u001b[39m \u001b[39m1\u001b[39m \u001b[39melse\u001b[39;00m\n\u001b[1;32m    931\u001b[0m         \u001b[39m\"\u001b[39m\u001b[39mExpected 1D or 2D array\u001b[39m\u001b[39m\"\u001b[39m)\n",
      "\u001b[0;31mValueError\u001b[0m: startprob_ must sum to 1 (got nan)"
     ]
    }
   ],
   "source": [
    "# load the test audio file and extract MFCC features\n",
    "mfcc_features = to_mfcc('./audio/hello3.wav')\n",
    "# mfcc_features\n",
    "\n",
    "# initialize a variable to store the prediction\n",
    "prediction = None\n",
    "max_score = -float(\"inf\")\n",
    "\n",
    "# loop through the trained models\n",
    "for i, audio_model in enumerate(audio_models):\n",
    "    # use the \"score\" method of the HMM model to get the likelihood of the test audio for this model\n",
    "    score = audio_model.score(numpy.reshape(mfcc_features, (-1,1)))\n",
    "    # update the prediction if the score for this model is higher than the current max_score\n",
    "    if score > max_score:\n",
    "        prediction = i\n",
    "        max_score = score\n",
    "\n",
    "# print the prediction (the index of the HMM model with the highest score)\n",
    "print(f\"Predicted audio: {word_directories[prediction]}\")\n"
   ]
  }
 ],
 "metadata": {
  "kernelspec": {
   "display_name": "TensorFlow",
   "language": "python",
   "name": "python3"
  },
  "language_info": {
   "codemirror_mode": {
    "name": "ipython",
    "version": 3
   },
   "file_extension": ".py",
   "mimetype": "text/x-python",
   "name": "python",
   "nbconvert_exporter": "python",
   "pygments_lexer": "ipython3",
   "version": "3.10.8"
  },
  "orig_nbformat": 4,
  "vscode": {
   "interpreter": {
    "hash": "45c48fb264bba0529b917885aa2fdf54bfc5ac58ac8ea30a57d1df6ad7c47fba"
   }
  }
 },
 "nbformat": 4,
 "nbformat_minor": 2
}
