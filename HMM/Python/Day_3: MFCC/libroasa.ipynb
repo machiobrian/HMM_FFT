{
 "cells": [
  {
   "cell_type": "code",
   "execution_count": 4,
   "metadata": {},
   "outputs": [],
   "source": [
    "# loading audio and resmapling: sr=##### e.g. sr=16000\n",
    "# to preserve sr of audio use: sr=None\n",
    "\n",
    "import librosa\n",
    "import numpy"
   ]
  },
  {
   "cell_type": "code",
   "execution_count": 9,
   "metadata": {},
   "outputs": [],
   "source": [
    "path = \"./bye\""
   ]
  },
  {
   "cell_type": "code",
   "execution_count": 11,
   "metadata": {},
   "outputs": [
    {
     "data": {
      "text/plain": [
       "(array([0.00130004, 0.00186006, 0.00155926, ..., 0.0010317 , 0.00206722,\n",
       "        0.        ], dtype=float32),\n",
       " 16000)"
      ]
     },
     "execution_count": 11,
     "metadata": {},
     "output_type": "execute_result"
    }
   ],
   "source": [
    "librosa.core.load(path='./{}.wav'.format(path), sr=16000, dtype=numpy.float32)"
   ]
  },
  {
   "cell_type": "markdown",
   "metadata": {},
   "source": [
    "rate = 16000\n",
    "n_mfcc = 13 # number of mfcc to return"
   ]
  },
  {
   "cell_type": "code",
   "execution_count": 7,
   "metadata": {},
   "outputs": [],
   "source": [
    "def get_wav(langugage_num):\n",
    "    '''\n",
    "    Load a .wav file from disk and resamaple to 16kHz\n",
    "    langugage_num : list - of all file names\n",
    "    return numpy array: downsampled .wav file\n",
    "    '''\n",
    "\n",
    "    data, sample_rate = librosa.core.load('./{}.wav'.format(langugage_num))\n",
    "    return(librosa.core.resample(y=data, orig_sr=sample_rate, target_sr=16000, scale=True))"
   ]
  },
  {
   "cell_type": "code",
   "execution_count": 8,
   "metadata": {},
   "outputs": [],
   "source": [
    "def to_mfcc(wav):\n",
    "    ''' \n",
    "    Convert .wav file to MFCC\n",
    "    wav - numpy array\n",
    "    return - 2D numpy array MFCC\n",
    "    ''' \n",
    "    return(librosa.feature.mfcc(y=wav, sr=16000, n_mfcc=13))"
   ]
  },
  {
   "cell_type": "code",
   "execution_count": 14,
   "metadata": {},
   "outputs": [],
   "source": [
    "if __name__ == '__main__':\n",
    "    audio = './bye'\n",
    "    X = get_wav(audio)\n",
    "    X = to_mfcc(X)\n",
    "\n",
    "    c = numpy.savetxt(\"file.txt\", X, delimiter=',')\n",
    "    a = open(\"file.txt\", 'r') # open file in read mode"
   ]
  }
 ],
 "metadata": {
  "kernelspec": {
   "display_name": "TensorFlow",
   "language": "python",
   "name": "python3"
  },
  "language_info": {
   "codemirror_mode": {
    "name": "ipython",
    "version": 3
   },
   "file_extension": ".py",
   "mimetype": "text/x-python",
   "name": "python",
   "nbconvert_exporter": "python",
   "pygments_lexer": "ipython3",
   "version": "3.10.8"
  },
  "orig_nbformat": 4,
  "vscode": {
   "interpreter": {
    "hash": "45c48fb264bba0529b917885aa2fdf54bfc5ac58ac8ea30a57d1df6ad7c47fba"
   }
  }
 },
 "nbformat": 4,
 "nbformat_minor": 2
}
