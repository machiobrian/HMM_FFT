{
 "cells": [
  {
   "cell_type": "code",
   "execution_count": 22,
   "metadata": {},
   "outputs": [],
   "source": [
    "import os\n",
    "import argparse\n",
    "from scipy.io import wavfile\n",
    "from python_speech_features import mfcc\n",
    "import numpy as np "
   ]
  },
  {
   "cell_type": "code",
   "execution_count": 54,
   "metadata": {},
   "outputs": [],
   "source": [
    "def build_arg_parser():\n",
    "    parser = argparse.ArgumentParser(description='Trains the HMM classifier')\n",
    "    parser.add_argument(\"--input-folder\", dest=\"input_folder\", required=True,\n",
    "            help=\"Input folder containing the audio files in subfolders\")\n",
    "    return parser\n",
    "\n",
    "input_folder = \"/home/ix502iv/Documents/Audio_Trad/HMM/Python/Day_5/data/audio/\""
   ]
  },
  {
   "cell_type": "code",
   "execution_count": 56,
   "metadata": {},
   "outputs": [],
   "source": [
    "input_folder = \"/home/ix502iv/Documents/Audio_Trad/HMM/hmm_commands\""
   ]
  },
  {
   "cell_type": "code",
   "execution_count": 57,
   "metadata": {},
   "outputs": [
    {
     "name": "stdout",
     "output_type": "stream",
     "text": [
      "['nem-durumu']\n",
      "['nem-durumu', 'nem-durumu']\n",
      "['nem-durumu', 'nem-durumu', 'nem-durumu']\n",
      "['nem-durumu', 'nem-durumu', 'nem-durumu', 'nem-durumu']\n",
      "['demo-fider-bilgileri']\n",
      "['demo-fider-bilgileri', 'demo-fider-bilgileri']\n",
      "['demo-fider-bilgileri', 'demo-fider-bilgileri', 'demo-fider-bilgileri']\n",
      "['demo-fider-bilgileri', 'demo-fider-bilgileri', 'demo-fider-bilgileri', 'demo-fider-bilgileri']\n",
      "['demo-fider-ac']\n",
      "['demo-fider-ac', 'demo-fider-ac']\n",
      "['demo-fider-ac', 'demo-fider-ac', 'demo-fider-ac']\n",
      "['demo-fider-ac', 'demo-fider-ac', 'demo-fider-ac', 'demo-fider-ac']\n",
      "['gsm-durumu']\n",
      "['gsm-durumu', 'gsm-durumu']\n",
      "['gsm-durumu', 'gsm-durumu', 'gsm-durumu']\n",
      "['gsm-durumu', 'gsm-durumu', 'gsm-durumu', 'gsm-durumu']\n",
      "['demo-fider-kapat']\n",
      "['demo-fider-kapat', 'demo-fider-kapat']\n",
      "['demo-fider-kapat', 'demo-fider-kapat', 'demo-fider-kapat']\n",
      "['demo-fider-kapat', 'demo-fider-kapat', 'demo-fider-kapat', 'demo-fider-kapat']\n"
     ]
    }
   ],
   "source": [
    "for dirname in os.listdir(input_folder):\n",
    "    # Get the name of the subfolder \n",
    "    subfolder = os.path.join(input_folder, dirname)\n",
    "    if not os.path.isdir(subfolder): # drop anything that is not a folder\n",
    "        continue\n",
    "    # print(subfolder) # finds the subfolders correctly.\n",
    "    # Extract the label: of the subfolder\n",
    "    label = subfolder[subfolder.rfind('/')+1:]\n",
    "    # print(label)\n",
    "    X = np.array([])\n",
    "    y_words = []\n",
    "\n",
    "    # Iterate through the audio files (leaving 1 file for testing in each class)\n",
    "    for filename in [x for x in os.listdir(subfolder) if x.endswith('.wav')][:-1]:\n",
    "        # Read the input file\n",
    "        filepath = os.path.join(subfolder, filename)\n",
    "        # print(filepath)\n",
    "        sampling_freq, audio = wavfile.read(filepath)\n",
    "        # print(sampling_freq, audio)\n",
    "        # Extract MFCC features\n",
    "        mfcc_features = mfcc(audio, sampling_freq, nfft=1200)\n",
    "        # print(mfcc_features)\n",
    "        if len(X) == 0:\n",
    "            X = mfcc_features\n",
    "        else:\n",
    "            X = np.append(X, mfcc_features,axis=0)\n",
    "        y_words.append(label)\n",
    "        print(y_words)\n"
   ]
  }
 ],
 "metadata": {
  "kernelspec": {
   "display_name": "TensorFlow",
   "language": "python",
   "name": "python3"
  },
  "language_info": {
   "codemirror_mode": {
    "name": "ipython",
    "version": 3
   },
   "file_extension": ".py",
   "mimetype": "text/x-python",
   "name": "python",
   "nbconvert_exporter": "python",
   "pygments_lexer": "ipython3",
   "version": "3.10.8"
  },
  "orig_nbformat": 4,
  "vscode": {
   "interpreter": {
    "hash": "45c48fb264bba0529b917885aa2fdf54bfc5ac58ac8ea30a57d1df6ad7c47fba"
   }
  }
 },
 "nbformat": 4,
 "nbformat_minor": 2
}
