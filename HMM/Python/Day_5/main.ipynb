{
 "cells": [
  {
   "attachments": {},
   "cell_type": "markdown",
   "metadata": {},
   "source": [
    "- Building HMM to perform speech recognition."
   ]
  },
  {
   "cell_type": "code",
   "execution_count": 3,
   "metadata": {},
   "outputs": [],
   "source": [
    "import os\n",
    "import argparse\n",
    "\n",
    "import numpy as np \n",
    "from scipy.io import wavfile\n",
    "from hmmlearn import hmm\n",
    "from python_speech_features import mfcc"
   ]
  },
  {
   "cell_type": "code",
   "execution_count": 2,
   "metadata": {},
   "outputs": [],
   "source": [
    "# function to parse input arguments\n",
    "def build_arg_parser():\n",
    "    parser = argparse.ArgumentParser(\n",
    "        description=\"Trains the HMM Classifier\"\n",
    "    )\n",
    "    parser.add_argument(\n",
    "        \"--input-folder\",\n",
    "        dest=\"input_folder\",\n",
    "        required=True,\n",
    "        help=\"Input folder containing the audio files in subfolders\"\n",
    "    )\n",
    "    return parser"
   ]
  },
  {
   "cell_type": "code",
   "execution_count": 4,
   "metadata": {},
   "outputs": [],
   "source": [
    "# define a class to model HMMs\n",
    "\n",
    "class HMMTrainer(object):\n",
    "    def __init__(self,model_name='GaussianHMM', n_components=4, cov_type='diag', n_iter=1000):\n",
    "        self.model_name = model_name\n",
    "        self.n_components = n_components\n",
    "        self.cov_type = cov_type\n",
    "        self.n_iter = n_iter\n",
    "        self.models = [] # where we are going to store all the models for words we want to identify\n",
    "\n",
    "        if self.model_name == 'GaussianHMM':\n",
    "            self.model = hmm.GaussianHMM(\n",
    "                n_components=self.n_components,\n",
    "                covariance_type=self.cov_type,\n",
    "                n_iter=self.n_iter\n",
    "                )\n",
    "        else:\n",
    "            raise TypeError('Invalid Model Type')\n",
    "\n",
    "    # X is a 2D numpy array where each row is 13D : look into this one keenly.\n",
    "    def train(self, X):\n",
    "        np.seterr(all='ignore')\n",
    "        self.models.append(self.model.fit(X))\n",
    "\n",
    "    # Run the model on input data : try and see how our model works\n",
    "    def get_score(self, input_data):\n",
    "        return self.model.score(input_data)"
   ]
  },
  {
   "cell_type": "code",
   "execution_count": 7,
   "metadata": {},
   "outputs": [
    {
     "name": "stderr",
     "output_type": "stream",
     "text": [
      "usage: ipykernel_launcher.py [-h] --input-folder INPUT_FOLDER\n",
      "ipykernel_launcher.py: error: the following arguments are required: --input-folder\n"
     ]
    },
    {
     "ename": "SystemExit",
     "evalue": "2",
     "output_type": "error",
     "traceback": [
      "An exception has occurred, use %tb to see the full traceback.\n",
      "\u001b[0;31mSystemExit\u001b[0m\u001b[0;31m:\u001b[0m 2\n"
     ]
    },
    {
     "name": "stderr",
     "output_type": "stream",
     "text": [
      "/home/ix502iv/miniconda3/envs/TensorFlow/lib/python3.10/site-packages/IPython/core/interactiveshell.py:3441: UserWarning: To exit: use 'exit', 'quit', or Ctrl-D.\n",
      "  warn(\"To exit: use 'exit', 'quit', or Ctrl-D.\", stacklevel=1)\n"
     ]
    }
   ],
   "source": [
    "if __name__=='__main__':\n",
    "    args = build_arg_parser().parse_args()\n",
    "    input_folder = argparse.input_folder\n",
    "\n",
    "    hmm_models = [] # initiate a variable to hold all the hmm models\n",
    "\n",
    "    # parse the input dir\n",
    "    for dirname in os.listdir(input_folder):\n",
    "        # get the name/link of the subfolder\n",
    "        subfolder = os.path.join(input_folder, dirname)\n",
    "        if not os.path.isdir(subfolder): # if not a dir, pass/skip it\n",
    "            continue\n",
    "\n",
    "        # extract the label : another important concept\n",
    "        label = subfolder[subfolder.rfind('/') + 1:]\n",
    "\n",
    "        # initialize variables\n",
    "        X = np.array([])\n",
    "        y_words = []\n",
    "\n",
    "        # Iterate through audio files leaving 1 file for testing in each class\n",
    "        for filename in [x for x in os.listdir(subfolder) if x.endswith('.wav')][:-1]:\n",
    "            # read the input file and extract the sampling freq and audio_data\n",
    "            filepath = os.path.join(subfolder, filename)\n",
    "            sampling_frequency, audio = wavfile.read(filepath)\n",
    "\n",
    "            # extract the mfcc features\n",
    "            mfcc_features = mfcc(audio, sampling_frequency,nfft=1200)\n",
    "\n",
    "            # append to the X variable\n",
    "            if len(X) == 0:\n",
    "                X = mfcc_features\n",
    "            else:\n",
    "                X = np.append(X, mfcc_features, axis=0)\n",
    "\n",
    "            # Append the label\n",
    "            y_words.append(label)\n",
    "        print('X.shape = ', X.shape)\n",
    "\n",
    "        # Train and Save HMM model\n",
    "        hmm_trainer = HMMTrainer()\n",
    "        hmm_trainer.train(X)\n",
    "        hmm_models.append((hmm_trainer, label))\n",
    "        hmm_trainer = None\n",
    "\n",
    "    # test files\n",
    "    input_files = [\n",
    "        #links to test files\n",
    "        \"/home/ix502iv/Documents/Audio_Trad/HMM/custom_commands/demo_fider_ac_0.wav\"\n",
    "        \"/home/ix502iv/Documents/Audio_Trad/HMM/custom_commands/demo_fider_ac_1.wav\"\n",
    "        \"/home/ix502iv/Documents/Audio_Trad/HMM/custom_commands/demo_fider_ac_2.wav\"\n",
    "        \"/home/ix502iv/Documents/Audio_Trad/HMM/custom_commands/demo_fider_ac_3.wav\"\n",
    "        \"/home/ix502iv/Documents/Audio_Trad/HMM/custom_commands/demo_fider_bilgileri_0.wav\"\n",
    "        \"/home/ix502iv/Documents/Audio_Trad/HMM/custom_commands/demo_fider_bilgileri_1.wav\"\n",
    "        \"/home/ix502iv/Documents/Audio_Trad/HMM/custom_commands/demo_fider_bilgileri_2.wav\"\n",
    "        \"/home/ix502iv/Documents/Audio_Trad/HMM/custom_commands/demo_fider_bilgileri_3.wav\"\n",
    "        \"/home/ix502iv/Documents/Audio_Trad/HMM/custom_commands/demo_fider_kapat_0.wav\"\n",
    "        \"/home/ix502iv/Documents/Audio_Trad/HMM/custom_commands/demo_fider_kapat_1.wav\"\n",
    "        \"/home/ix502iv/Documents/Audio_Trad/HMM/custom_commands/demo_fider_kapat_2.wav\"\n",
    "        \"/home/ix502iv/Documents/Audio_Trad/HMM/custom_commands/demo_fider_kapat_3.wav\"\n",
    "        \"/home/ix502iv/Documents/Audio_Trad/HMM/custom_commands/gsm_durumu_0.wav\"\n",
    "        \"/home/ix502iv/Documents/Audio_Trad/HMM/custom_commands/gsm_durumu_1.wav\"\n",
    "        \"/home/ix502iv/Documents/Audio_Trad/HMM/custom_commands/gsm_durumu_2.wav\"\n",
    "        \"/home/ix502iv/Documents/Audio_Trad/HMM/custom_commands/gsm_durumu_3.wav\"\n",
    "        \"/home/ix502iv/Documents/Audio_Trad/HMM/custom_commands/nem_durumu_0.wav\"\n",
    "        \"/home/ix502iv/Documents/Audio_Trad/HMM/custom_commands/nem_durumu_1.wav\"\n",
    "        \"/home/ix502iv/Documents/Audio_Trad/HMM/custom_commands/nem_durumu_2.wav\"\n",
    "        \"/home/ix502iv/Documents/Audio_Trad/HMM/custom_commands/nem_durumu_3.wav\"\n",
    "    ]\n",
    "\n",
    "    # classify the input data\n",
    "    for input_file in input_files:\n",
    "        # read & extract from the input files\n",
    "        sampling_frequency, audio_data = wavfile.read(input_file)\n",
    "\n",
    "        # extract mfcc features\n",
    "        mfcc_features = mfcc(audio, sampling_frequency, nfft=1200)\n",
    "\n",
    "        # define variabes\n",
    "        max_score = None\n",
    "        output_label = None\n",
    "\n",
    "        # iterate through all HMM Models and pick the one with the highest score\n",
    "        for item in hmm_models:\n",
    "            hmm_model, label = item \n",
    "            score = hmm_model.get_score(mfcc_features)\n",
    "            if score > max_score:\n",
    "                max_score = score \n",
    "                output_label = label\n",
    "\n",
    "        # Print the output\n",
    "        print(\"\\nTrue:\", input_file[input_file.find('/')+1:input_file.rfind('/')])\n",
    "        print(\"Predicted:\", output_label)"
   ]
  },
  {
   "cell_type": "code",
   "execution_count": 12,
   "metadata": {},
   "outputs": [
    {
     "data": {
      "text/plain": [
       "['/home/ix502iv/Documents/Audio_Trad/HMM/Python/Day_5/data/audio/apple/apple15.wav',\n",
       " '/home/ix502iv/Documents/Audio_Trad/HMM/Python/Day_5/data/audio/banana/banana15.wav']"
      ]
     },
     "execution_count": 12,
     "metadata": {},
     "output_type": "execute_result"
    }
   ],
   "source": [
    "# test some input_file function\n",
    "\n",
    "input_files = [\n",
    "        \"/home/ix502iv/Documents/Audio_Trad/HMM/Python/Day_5/data/audio/apple/apple15.wav\",\n",
    "        \"/home/ix502iv/Documents/Audio_Trad/HMM/Python/Day_5/data/audio/banana/banana15.wav\"\n",
    "]\n",
    "input_files"
   ]
  },
  {
   "cell_type": "code",
   "execution_count": 17,
   "metadata": {},
   "outputs": [
    {
     "name": "stdout",
     "output_type": "stream",
     "text": [
      "apple15\n",
      "banana15\n"
     ]
    }
   ],
   "source": [
    "for input_file in input_files:\n",
    "    print(input_file[input_file.rfind('/')+1:input_file.rfind('.')])"
   ]
  },
  {
   "attachments": {},
   "cell_type": "markdown",
   "metadata": {},
   "source": [
    "### Error Handling:\n",
    "\n",
    "\n",
    "- The error handling block has been added after the for loop, and it catches any exceptions that might occur during processing of an input file. If an exception is caught, the program prints an error message along with the filename and the error message. This ensures that the program does not crash if an exception occurs during processing of an input file."
   ]
  },
  {
   "cell_type": "code",
   "execution_count": null,
   "metadata": {},
   "outputs": [],
   "source": [
    "# function to parse input arguments\n",
    "def build_arg_parser():\n",
    "    parser = argparse.ArgumentParser(\n",
    "        description=\"Trains the HMM Classifier\")\n",
    "    parser.add_argument(\n",
    "        \"--input-folder\",\n",
    "        dest=\"input_folder\",\n",
    "        required=True,\n",
    "        help=\"Input folder containing the audio files in subfolders\")\n",
    "    return parser\n",
    "\n",
    "if __name__=='__main__':\n",
    "    try:\n",
    "        args = build_arg_parser().parse_args()\n",
    "        input_folder = args.input_folder\n",
    "    except argparse.ArgumentError as e:\n",
    "        print(f\"Error: {str(e)}\")\n",
    "        sys.exit(1)\n",
    "\n",
    "    hmm_models = [] # initiate a variable to hold all the hmm models\n",
    "\n",
    "    # parse the input dir\n",
    "    try:\n",
    "        for dirname in os.listdir(input_folder):\n",
    "            # get the name/link of the subfolder\n",
    "            subfolder = os.path.join(input_folder, dirname)\n",
    "            if not os.path.isdir(subfolder): # if not a dir, pass/skip it\n",
    "                continue\n",
    "\n",
    "            # extract the label : another important concept\n",
    "            label = subfolder[subfolder.rfind('/') + 1:]\n",
    "\n",
    "            # initialize variables\n",
    "            X = np.array([])\n",
    "            y_words = []\n",
    "\n",
    "            # Iterate through audio files leaving 1 file for testing in each class\n",
    "            for filename in [x for x in os.listdir(subfolder) if x.endswith('.wav')][:-1]:\n",
    "                # read the input file and extract the sampling freq and audio_data\n",
    "                filepath = os.path.join(subfolder, filename)\n",
    "                try:\n",
    "                    sampling_frequency, audio = wavfile.read(filepath)\n",
    "                except ValueError as e:\n",
    "                    print(f\"Error reading file {filepath}: {str(e)}\")\n",
    "                    continue\n",
    "\n",
    "                # extract the mfcc features\n",
    "                mfcc_features = mfcc(audio, sampling_frequency,nfft=512)\n",
    "\n",
    "                # append to the X variable\n",
    "                if len(X) == 0:\n",
    "                    X = mfcc_features\n",
    "                else:\n",
    "                    X = np.append(X, mfcc_features, axis=0)\n",
    "\n",
    "                # Append the label\n",
    "                y_words.append(label)\n",
    "\n",
    "            # Train and Save HMM model\n",
    "            hmm_trainer = HMMTrainer()\n",
    "            hmm_trainer.train(X)\n",
    "            hmm_models.append((hmm_trainer, label))\n",
    "            hmm_trainer = None\n",
    "    except OSError as e:\n",
    "        print(f\"Error accessing directory {input_folder}: {str(e)}\")\n",
    "        sys.exit(1)\n",
    "\n",
    "    # test files\n",
    "    input_files = [\n",
    "        \"/home/ix502iv/Documents/Audio_Trad/HMM/Python/Day_5/data/audio/apple/apple.wav\",\n",
    "        \"/home/ix502iv/Documents/Audio_Trad/HMM/Python/Day_5/data/audio/banana/banana.wav\"\n",
    "    ]\n",
    "\n",
    "    # classify the input data\n",
    "    for input_file in input_files:\n",
    "        try:\n",
    "            # read & extract from the input files\n",
    "            sampling_frequency, audio_data = wavfile.read(input_file)\n",
    "\n",
    "            # extract mfcc features\n",
    "            mfcc_features = mfcc(audio_data, sampling_frequency, nfft=512)\n",
    "\n",
    "            # define variabes\n",
    "            max_score = 0.0 # initially None\n",
    "            output_label = \"unknown\"\n",
    "\n",
    "            # iterate through all HMM Models and pick the one with the highest score\n",
    "            for item in hmm_models:\n",
    "                hmm_model, label = item \n",
    "                score = hmm_model.get_score(mfcc_features)\n",
    "                if score > max_score:\n",
    "                    max_score = score \n",
    "                    output_label = label\n",
    "\n",
    "            # Print the output\n",
    "            print(\"\\nTrue:\", input_file[input_file.rfind('/')+1:input_file.rfind('.')])\n",
    "            print(\"Predicted:\", output_label)\n",
    "\n",
    "        except Exception as e:\n",
    "            print(f\"Error processing {input_file}: {str(e)}\")\n"
   ]
  },
  {
   "attachments": {},
   "cell_type": "markdown",
   "metadata": {},
   "source": [
    "### Normalization or scaling of audio data.\n",
    "- One common approach is to normalize the audio data by dividing it by the maximum absolute value. This will ensure that the data is scaled to a range between -1 and 1, which can help prevent issues with numerical precision and can also help to reduce the impact of background noise on the accuracy of the model.\n",
    "\n",
    "- Apply normalization to the audio data before extracting MFCC features"
   ]
  },
  {
   "cell_type": "code",
   "execution_count": null,
   "metadata": {},
   "outputs": [],
   "source": [
    "# define a function to normalize audio data\n",
    "def normalize_audio(audio):\n",
    "    # get the maximum absolute value\n",
    "    max_abs = np.max(np.abs(audio))\n",
    "    # divide by max_abs to normalize the audio data\n",
    "    return audio / max_abs\n",
    "\n",
    "# iterate through audio files leaving 1 file for testing in each class\n",
    "for filename in [x for x in os.listdir(subfolder) if x.endswith('.wav')][:-1]:\n",
    "    # read the input file and extract the sampling freq and audio_data\n",
    "    filepath = os.path.join(subfolder, filename)\n",
    "    sampling_frequency, audio = wavfile.read(filepath)\n",
    "\n",
    "    # normalize the audio data\n",
    "    audio = normalize_audio(audio)\n",
    "\n",
    "    # extract the mfcc features\n",
    "    mfcc_features = mfcc(audio, sampling_frequency,nfft=512)\n",
    "\n",
    "    # append to the X variable\n",
    "    if len(X) == 0:\n",
    "        X = mfcc_features\n",
    "    else:\n",
    "        X = np.append(X, mfcc_features, axis=0)\n",
    "\n",
    "    # Append the label\n",
    "    y_words.append(label)\n"
   ]
  }
 ],
 "metadata": {
  "kernelspec": {
   "display_name": "TensorFlow",
   "language": "python",
   "name": "python3"
  },
  "language_info": {
   "codemirror_mode": {
    "name": "ipython",
    "version": 3
   },
   "file_extension": ".py",
   "mimetype": "text/x-python",
   "name": "python",
   "nbconvert_exporter": "python",
   "pygments_lexer": "ipython3",
   "version": "3.10.8"
  },
  "orig_nbformat": 4,
  "vscode": {
   "interpreter": {
    "hash": "45c48fb264bba0529b917885aa2fdf54bfc5ac58ac8ea30a57d1df6ad7c47fba"
   }
  }
 },
 "nbformat": 4,
 "nbformat_minor": 2
}
