import numpy as np 
import matplotlib.pyplot as plt 
from scipy.io import wavfile
from python_speech_features import mfcc, logfbank

# read input sound file: make use of custom commands: demo_fider_ac_0.wav
# /home/ix502iv/Documents/Audio_Trad/HMM/custom_commands/demo_fider_ac_0.wav
sampling_frequency, audio = wavfile.read("/home/ix502iv/Documents/Audio_Trad/HMM/custom_commands/demo_fider_ac_0.wav")
