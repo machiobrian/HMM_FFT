{
 "cells": [
  {
   "cell_type": "code",
   "execution_count": 1,
   "metadata": {},
   "outputs": [],
   "source": [
    "import numpy as np \n",
    "import matplotlib.pyplot as plt \n",
    "from scipy.io import wavfile"
   ]
  },
  {
   "cell_type": "code",
   "execution_count": 2,
   "metadata": {},
   "outputs": [
    {
     "data": {
      "text/plain": [
       "(48000, array([  0,  -1,  -1, ..., -52, -45, -40], dtype=int16))"
      ]
     },
     "execution_count": 2,
     "metadata": {},
     "output_type": "execute_result"
    }
   ],
   "source": [
    "# load and get the sampling freq & array form audio the input file\n",
    "sampling_frequency, audio_data = wavfile.read(\"/home/ix502iv/Documents/Audio_Trad/HMM/custom_commands/demo_fider_ac_0.wav\")\n",
    "sampling_frequency, audio_data"
   ]
  },
  {
   "cell_type": "code",
   "execution_count": 3,
   "metadata": {},
   "outputs": [
    {
     "data": {
      "text/plain": [
       "array([ True,  True,  True, ...,  True,  True,  True])"
      ]
     },
     "execution_count": 3,
     "metadata": {},
     "output_type": "execute_result"
    }
   ],
   "source": [
    "# normalize the audio values : application of a constant amount of gain to an audio to bring\n",
    "# amplitude to a target level\n",
    "audio_data_norm = audio_data / (2.**15)\n",
    "audio_data == audio_data_norm*(2.**15)"
   ]
  },
  {
   "cell_type": "code",
   "execution_count": 4,
   "metadata": {},
   "outputs": [
    {
     "data": {
      "text/plain": [
       "115096"
      ]
     },
     "execution_count": 4,
     "metadata": {},
     "output_type": "execute_result"
    }
   ],
   "source": [
    "# get the audio length\n",
    "len_audio = len(audio_data)\n",
    "len_audio"
   ]
  },
  {
   "cell_type": "code",
   "execution_count": 5,
   "metadata": {},
   "outputs": [
    {
     "data": {
      "text/plain": [
       "57549"
      ]
     },
     "execution_count": 5,
     "metadata": {},
     "output_type": "execute_result"
    }
   ],
   "source": [
    "# apply fourier transform: get the audio from time/space to spatial frequency\n",
    "transformed_signal = np.fft.fft(audio_data)\n",
    "half_length = np.ceil((len_audio+1)/2.0)\n",
    "half_length = int(half_length) # change to int: ceil leaves us at float\n",
    "half_length"
   ]
  },
  {
   "cell_type": "code",
   "execution_count": 7,
   "metadata": {},
   "outputs": [
    {
     "data": {
      "text/plain": [
       "array([4.98497456e+10, 4.45436230e+10, 5.42055445e+10, ...,\n",
       "       7.12363736e+16, 1.43355480e+16, 3.20462697e+16])"
      ]
     },
     "execution_count": 7,
     "metadata": {},
     "output_type": "execute_result"
    }
   ],
   "source": [
    "transformed_signal = abs(transformed_signal[0:half_length])\n",
    "transformed_signal /= float(len_audio)\n",
    "transformed_signal **- 2"
   ]
  },
  {
   "cell_type": "code",
   "execution_count": 9,
   "metadata": {},
   "outputs": [],
   "source": [
    "# extract the length of the transformed signal\n",
    "len_ts = len(transformed_signal)\n",
    "\n",
    "# sort the even/odd cases\n",
    "if len_audio % 2:\n",
    "    transformed_signal[1:len_ts] *= 2\n",
    "else:\n",
    "    transformed_signal[1:len_ts-1] *= 2"
   ]
  },
  {
   "cell_type": "code",
   "execution_count": 12,
   "metadata": {},
   "outputs": [
    {
     "data": {
      "text/plain": [
       "array([-53.48831473, -50.23362774, -50.6599186 , ..., -81.25320906,\n",
       "       -77.77177154, -82.52888741])"
      ]
     },
     "execution_count": 12,
     "metadata": {},
     "output_type": "execute_result"
    }
   ],
   "source": [
    "# extract the powe in db \n",
    "power = 10 * np.log10(transformed_signal)\n",
    "power"
   ]
  }
 ],
 "metadata": {
  "kernelspec": {
   "display_name": "TensorFlow",
   "language": "python",
   "name": "python3"
  },
  "language_info": {
   "codemirror_mode": {
    "name": "ipython",
    "version": 3
   },
   "file_extension": ".py",
   "mimetype": "text/x-python",
   "name": "python",
   "nbconvert_exporter": "python",
   "pygments_lexer": "ipython3",
   "version": "3.10.8"
  },
  "orig_nbformat": 4,
  "vscode": {
   "interpreter": {
    "hash": "45c48fb264bba0529b917885aa2fdf54bfc5ac58ac8ea30a57d1df6ad7c47fba"
   }
  }
 },
 "nbformat": 4,
 "nbformat_minor": 2
}
